{
 "cells": [
  {
   "cell_type": "code",
   "execution_count": 7,
   "metadata": {},
   "outputs": [],
   "source": [
    "s=[[\"absd\", \"ajbsdbak\", \"122y327y\"], [\"nobgj\", \"jadhsfgvhad\"], [\"asfgdahshdg\", \"hdjhjs\"]]"
   ]
  },
  {
   "cell_type": "code",
   "execution_count": 3,
   "metadata": {},
   "outputs": [
    {
     "name": "stdout",
     "output_type": "stream",
     "text": [
      "3\n",
      "2\n",
      "2\n"
     ]
    }
   ],
   "source": [
    "for i in range(0, len(s)):\n",
    "    print(len(s[i]))"
   ]
  },
  {
   "cell_type": "code",
   "execution_count": 4,
   "metadata": {},
   "outputs": [
    {
     "name": "stdout",
     "output_type": "stream",
     "text": [
      "2.3333333333333335\n"
     ]
    }
   ],
   "source": [
    "wsum=0\n",
    "for i in range(0, len(s)):\n",
    "    wsum+=len(s[i])\n",
    "print(wsum/len(s))"
   ]
  },
  {
   "cell_type": "code",
   "execution_count": null,
   "metadata": {},
   "outputs": [],
   "source": []
  },
  {
   "cell_type": "markdown",
   "metadata": {},
   "source": [
    "Words\n",
    "Difficulty: Medium\n",
    "Question: The words in a paragraph were stored in a 2D list. Each list inside the given list corresponds to a sentence. The elements of this list are words of that sentence. You have to find the mean number of words in each sentence. The mean of n values x1, x2 …, xn = (∑xi)/n. Round off the result to 2 decimal places.\n",
    "Examples:\n",
    "Test Case 1:\n",
    "Input - [[\"I\", \"am\", \"hungry\"], ['Let\"s', \"order\"]]\n",
    "Output - 2.5\n",
    "Explanation - The first sentence has 3 words. The second one has 2. Mean = (3+2)/2 = 2.5\n",
    "Test Case 2:\n",
    "Input - [[\"We\", \"know\", \"what\", \"we\", \"are\"], [\"But\", \"know\", \"not\", \"what\", \"we\", \"may\", \"be\"]]\n",
    "Output - 6.0\n",
    "Explanation - First sentence has 5 words. Second has 7 words. Mean = 6."
   ]
  },
  {
   "cell_type": "code",
   "execution_count": 11,
   "metadata": {},
   "outputs": [],
   "source": [
    "def meanwords(A):\n",
    "    n = len(A)\n",
    "    # Initialize variables to keep track of the sum and count for each word.\n",
    "    wsum=0\n",
    "    for sen in range(0, n):\n",
    "        wsum+=len(A[sen])\n",
    "    return round(wsum/n, 1)"
   ]
  },
  {
   "cell_type": "code",
   "execution_count": 10,
   "metadata": {},
   "outputs": [],
   "source": [
    "nc=[[\"We\", \"know\", \"what\", \"we\", \"are\"], [\"But\", \"know\", \"not\", \"what\", \"we\", \"may\", \"be\"]]"
   ]
  },
  {
   "cell_type": "code",
   "execution_count": 14,
   "metadata": {},
   "outputs": [
    {
     "data": {
      "text/plain": [
       "6.0"
      ]
     },
     "execution_count": 14,
     "metadata": {},
     "output_type": "execute_result"
    }
   ],
   "source": [
    "meanwords(nc)"
   ]
  },
  {
   "cell_type": "markdown",
   "metadata": {},
   "source": [
    "Not today, Duplicate!\n",
    "Difficulty: Hard\n",
    "Question: Do you know about relational databases? They are the huge pools of data that store data in an efficient way for performing Create, Read, Update and Delete (CRUD) operations on data. To facilitate this, they employ many techniques - one of them being to store each set of unique data with a unique identifier, called primary key. There are other constraints that can be used as keys as well - for example in a customer database, customer email can be kept as a key besides the primary key, given that every customer email should be unique. In this case, it’s called a candidate key.\n",
    "Here, you are the esteemed Database Administrator (DBA), and your task is to de-duplicate the data. Data de-duplication refers to the process of eliminating already existing duplicate data or preventing duplicate data from entering the database.\n",
    "But real-world data is messy, containing lots of duplicates. Here, you are given incoming employee data that consists of their name, address, employee email, phone number, etc. Your job is to create a filter that removes incoming duplicates from the database you are given.\n",
    "The incoming data is in the form of a list of tuples (DATA_KEY, NAME, EMAIL, ADDRESS, PHONE)\n",
    "The following constraints are given:\n",
    "DATA_KEY, EMPLOYEE_EMAIL and PHONE are the keys - that is, they should be unique.\n",
    "Complete the function db_filter(data) so that it takes in incoming data as a list of tuples and returns a de-duplicated list containing only the data that satisfy the above constraints. In case of duplicates, keep the data that was stored first.\n",
    "Input format: List of tuples\n",
    "Output format: List of tuples\n",
    "Examples:\n",
    "Test Case 1:\n",
    "Input: [(1, 'A', 'a@b.com', '23, Lake Avenue', '919734536286'), (1, 'B', 'a@b.com', '23, Bard Colony', '919734536286')]\n",
    "Output: [(1, 'A', 'a@b.com', '23, Lake Avenue', '919734536286')]\n",
    "Explanation: The second entry violated the constraints that the fields DATA_KEY, EMPLOYEE_EMAIL and PHONE must be unique. So it was ignored."
   ]
  },
  {
   "cell_type": "code",
   "execution_count": 28,
   "metadata": {},
   "outputs": [],
   "source": [
    "x = [(1, 'A', 'a@b.com', '23, Lake Avenue', '919734536286'), (1, 'B', 'a@b.com', '23, Bard Colony', '919734536286'), (1, 'B', 'a@b.com', '23, Bard Colony', '919734536286'), (1, 'B', 'a@b.com', '23, Bard Colony', '919734536286'), (1, 'B', 'a@b.com', '23, Bard Colony', '919734536296')]"
   ]
  },
  {
   "cell_type": "code",
   "execution_count": 21,
   "metadata": {},
   "outputs": [
    {
     "data": {
      "text/plain": [
       "{(1, 'A', 'a@b.com', '23, Lake Avenue', '919734536286'),\n",
       " (1, 'B', 'a@b.com', '23, Bard Colony', '919734536286')}"
      ]
     },
     "execution_count": 21,
     "metadata": {},
     "output_type": "execute_result"
    }
   ],
   "source": []
  },
  {
   "cell_type": "code",
   "execution_count": 2,
   "metadata": {},
   "outputs": [],
   "source": [
    "A=[1,2,3,4]"
   ]
  },
  {
   "cell_type": "code",
   "execution_count": 24,
   "metadata": {},
   "outputs": [
    {
     "ename": "IndexError",
     "evalue": "pop index out of range",
     "output_type": "error",
     "traceback": [
      "\u001b[1;31m---------------------------------------------------------------------------\u001b[0m",
      "\u001b[1;31mIndexError\u001b[0m                                Traceback (most recent call last)",
      "\u001b[1;32matomikkus\\dsml-nov22-beginner-morning-tue\\dailypython.ipynb Cell 13\u001b[0m in \u001b[0;36m<cell line: 1>\u001b[1;34m()\u001b[0m\n\u001b[1;32m----> <a href='vscode-notebook-cell://github/atomikkus/dsml-nov22-beginner-morning-tue/dailypython.ipynb#X16sdnNjb2RlLXZmcw%3D%3D?line=0'>1</a>\u001b[0m A\u001b[39m.\u001b[39;49mpop(\u001b[39m4\u001b[39;49m)\n",
      "\u001b[1;31mIndexError\u001b[0m: pop index out of range"
     ]
    }
   ],
   "source": [
    "A.pop(4)"
   ]
  },
  {
   "cell_type": "code",
   "execution_count": 16,
   "metadata": {},
   "outputs": [
    {
     "data": {
      "text/plain": [
       "True"
      ]
     },
     "execution_count": 16,
     "metadata": {},
     "output_type": "execute_result"
    }
   ],
   "source": [
    "x[0][-1] == x[1][-1]"
   ]
  },
  {
   "cell_type": "code",
   "execution_count": 29,
   "metadata": {},
   "outputs": [],
   "source": [
    "y=[]\n",
    "for i in x:\n",
    "    y.append(list(i))\n",
    "\n",
    "for i in range(len(y)):\n",
    "    for j in range(i+1, len(y)):\n",
    "        if y[i][-1] in y[j]:\n",
    "            y[j][-1]='del'"
   ]
  },
  {
   "cell_type": "code",
   "execution_count": null,
   "metadata": {},
   "outputs": [],
   "source": [
    "for i in range(len(y)):\n",
    "    if 'del'==y[i][-1]:\n",
    "        y.pop(i)"
   ]
  },
  {
   "cell_type": "markdown",
   "metadata": {},
   "source": [
    "### Hey there, it's Day 3 of the #daily-python-questions! :bongocat_code: :python:\n",
    "Locate Peak\n",
    "### Difficulty: Medium\n",
    "### Question: Given a list of integers, find the index of the maximum value. If there are two maximums, return index of the first one. If given list is empty return -1. Do not use the index() method.\n",
    "### Examples:\n",
    "Test Case 1:\n",
    "Input - [5, 10, 15, 4, 6]\n",
    "Output - 2\n",
    "Explanation - The maximum number is 15. It’s index is 2.\n",
    "Test Case 2:\n",
    "Input - [22,3,22,2,7,11]\n",
    "Output - 0\n",
    "Explanation - There are two maximums with value 22. The first one has index 0."
   ]
  },
  {
   "cell_type": "code",
   "execution_count": null,
   "metadata": {},
   "outputs": [],
   "source": [
    "def locate_peak(data):\n",
    "    n = len(data)\n",
    "    if n==0:\n",
    "        return -1\n",
    "    # peak will store the biggest number known till that index. Setting it to the first number initially.\n",
    "    peak = data[0] \n",
    "    # idx will store the index of the previous biggest number. It doesn't get changed if we encounter a  # number equal to the current biggest number.\n",
    "    idx = 0\n",
    "    for i in range(1,n):\n",
    "        if data[i] > peak:\n",
    "            peak = data[i]\n",
    "            idx = i\n",
    "    return idx"
   ]
  },
  {
   "cell_type": "markdown",
   "metadata": {},
   "source": [
    "##### Tail match\n",
    "##### Difficulty: Hard\n",
    "##### Question: Given a list of integers, group all numbers which end with the same digit and return as a dictionary. The keys of the dictionary will be the last digit and value of dictionary will be a list of numbers. If given list is empty return -1.\n",
    "##### Examples:\n",
    "##### Test Case 1:\n",
    "##### Input - [5, 10, 15, 4, 50]\n",
    "##### Output - {5: [5,15], 0: [10, 50], 4: [4]}\n",
    "##### Explanation - 5 and 15 end with 5, so they are grouped together. 10 and 50 end with 0. 4 ends with 4.\n",
    "##### Test Case 2:\n",
    "##### Input - [22,3,22,2,71,11]\n",
    "##### Output - {2: [22, 22, 2], 3: [3], 1: [71, 11]}\n",
    "##### Explanation - 22, 22 and 2 end with 2, so they are grouped together. 3 ends with 3. 71 and 11 end with 1."
   ]
  },
  {
   "cell_type": "code",
   "execution_count": 3,
   "metadata": {},
   "outputs": [],
   "source": [
    "x='0'"
   ]
  },
  {
   "cell_type": "code",
   "execution_count": 20,
   "metadata": {},
   "outputs": [],
   "source": [
    "x=[5, 10, 15, 4, 50]"
   ]
  },
  {
   "cell_type": "code",
   "execution_count": 29,
   "metadata": {},
   "outputs": [],
   "source": [
    "z=[]\n",
    "for i in A:\n",
    "    i=str(i)\n",
    "    z.append(i[-1])"
   ]
  },
  {
   "cell_type": "code",
   "execution_count": 34,
   "metadata": {},
   "outputs": [],
   "source": [
    "z=set(z)\n",
    "\n",
    "tails={}\n",
    "for n in z:\n",
    "    v=[]\n",
    "    for i in x:\n",
    "        if str(i)[-1]==n:\n",
    "            v.append(i)\n",
    "            tails[n]=v\n"
   ]
  },
  {
   "cell_type": "code",
   "execution_count": 35,
   "metadata": {},
   "outputs": [
    {
     "data": {
      "text/plain": [
       "{'0', '4', '5'}"
      ]
     },
     "execution_count": 35,
     "metadata": {},
     "output_type": "execute_result"
    }
   ],
   "source": [
    "z"
   ]
  },
  {
   "cell_type": "code",
   "execution_count": 36,
   "metadata": {},
   "outputs": [
    {
     "data": {
      "text/plain": [
       "{'0': [10, 50], '5': [5, 15], '4': [4]}"
      ]
     },
     "execution_count": 36,
     "metadata": {},
     "output_type": "execute_result"
    }
   ],
   "source": [
    "tails"
   ]
  },
  {
   "cell_type": "code",
   "execution_count": 45,
   "metadata": {},
   "outputs": [],
   "source": [
    "def tailchase(A):\n",
    "    z=[]\n",
    "    for i in A:\n",
    "        i=str(i)\n",
    "        z.append(i[-1])\n",
    "    \n",
    "    tails={}\n",
    "    for n in set(z):\n",
    "        v=[]\n",
    "        for i in A:\n",
    "            if str(i)[-1]==n:\n",
    "                v.append(i)\n",
    "                tails[n]=v\n",
    "    return tails\n",
    "    \n",
    "    "
   ]
  },
  {
   "cell_type": "code",
   "execution_count": 46,
   "metadata": {},
   "outputs": [
    {
     "data": {
      "text/plain": [
       "{'2': [22, 22, 2], '3': [3], '1': [71, 11]}"
      ]
     },
     "execution_count": 46,
     "metadata": {},
     "output_type": "execute_result"
    }
   ],
   "source": [
    "tailchase([22,3,22,2,71,11])"
   ]
  }
 ],
 "metadata": {
  "kernelspec": {
   "display_name": "Python 3",
   "language": "python",
   "name": "python3"
  },
  "language_info": {
   "codemirror_mode": {
    "name": "ipython",
    "version": 3
   },
   "file_extension": ".py",
   "mimetype": "text/x-python",
   "name": "python",
   "nbconvert_exporter": "python",
   "pygments_lexer": "ipython3",
   "version": "3.10.2"
  },
  "orig_nbformat": 4
 },
 "nbformat": 4,
 "nbformat_minor": 2
}
