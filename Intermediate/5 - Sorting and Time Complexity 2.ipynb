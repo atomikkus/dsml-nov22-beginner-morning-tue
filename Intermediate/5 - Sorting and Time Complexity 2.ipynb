{
 "cells": [
  {
   "cell_type": "code",
   "execution_count": 4,
   "id": "2c595dc3",
   "metadata": {},
   "outputs": [],
   "source": [
    "def bubble_sort_optimized(a):\n",
    "    for i in range(len(a)):\n",
    "        is_sorted = True\n",
    "        \n",
    "        for j in range(len(a) - i - 1):\n",
    "            if a[j] > a[j+1]:\n",
    "                is_sorted = False\n",
    "                a[j], a[j+1] = a[j+1], a[j]\n",
    "        \n",
    "        if is_sorted:\n",
    "            break\n",
    "                \n",
    "    return a"
   ]
  },
  {
   "cell_type": "code",
   "execution_count": null,
   "id": "22aa03e0",
   "metadata": {},
   "outputs": [],
   "source": [
    "def int_search(A,B):\n",
    "    start=A[0]\n",
    "    end=A[-1]\n",
    "\n",
    "\n",
    "    def bubble_sort(A):\n",
    "    \n",
    "        for i in range(len(A)):\n",
    "            for j in range(len(A)-i-1):\n",
    "                if A[j]>A[j+1]:\n",
    "                    A[j],A[j+1]=A[j+1],A[j]\n",
    "        return A\n",
    "\n",
    "    \n",
    "\n",
    "    if B in A:\n",
    "        while start <= end:\n",
    "            mid=(start+end)//2\n",
    "\n",
    "            if A[mid]==B:\n",
    "                return mid\n",
    "            elif A[mid]<B:\n",
    "                start=mid+1\n",
    "            else:\n",
    "                end=mid-1\n",
    "    else:\n",
    "        return int_search(bubble_sort(A+[B]),B)\n",
    "\n",
    "A=[1,2,4,5,6,7,8]\n",
    "B=9\n",
    "int_search(A,B)"
   ]
  },
  {
   "cell_type": "code",
   "execution_count": 1,
   "id": "82c73a2f",
   "metadata": {},
   "outputs": [],
   "source": [
    "def bubble_sort_visual_unoptimized(a):\n",
    "    print(a)\n",
    "    count = 0\n",
    "    \n",
    "    for i in range(len(a)):\n",
    "        for j in range(len(a) - i - 1):\n",
    "            count += 1\n",
    "            \n",
    "            if a[j] > a[j+1]:\n",
    "                a[j], a[j+1] = a[j+1], a[j]\n",
    "                \n",
    "            print(f\"\\t{a}\")\n",
    "        \n",
    "        print(\"-\"*25)\n",
    "        print(a)\n",
    "        \n",
    "    print(f\"I ran {count} times!\")\n",
    "                \n",
    "    return a"
   ]
  },
  {
   "cell_type": "code",
   "execution_count": null,
   "id": "1c700408",
   "metadata": {},
   "outputs": [],
   "source": [
    "def bubble_sort_visual_unoptimized(a):\n",
    "    # Print the initial unsorted array\n",
    "    print(a)\n",
    "    \n",
    "    # Initialize a variable to count the number of comparisons made\n",
    "    count = 0\n",
    "    \n",
    "    # Loop through the array from the first element to the second-to-last element\n",
    "    for i in range(len(a)):\n",
    "        # Loop through the array from the first element to the element before the last i elements\n",
    "        for j in range(len(a) - i - 1):\n",
    "            # Increment the comparison counter\n",
    "            count += 1\n",
    "            \n",
    "            # If the current element is greater than the next element, swap them\n",
    "            if a[j] > a[j+1]:\n",
    "                a[j], a[j+1] = a[j+1], a[j]\n",
    "                \n",
    "            # Print the current state of the array after each comparison\n",
    "            print(f\"\\t{a}\")\n",
    "        \n",
    "        # Print a line of dashes to separate each iteration\n",
    "        print(\"-\"*25)\n",
    "        \n",
    "        # Print the current state of the array after each iteration\n",
    "        print(a)\n",
    "        \n",
    "    # Print the number of comparisons made\n",
    "    print(f\"I ran {count} times!\")\n",
    "                \n",
    "    # Return the sorted array\n",
    "    return a\n"
   ]
  },
  {
   "cell_type": "code",
   "execution_count": 4,
   "id": "ccc69679",
   "metadata": {},
   "outputs": [
    {
     "name": "stdout",
     "output_type": "stream",
     "text": [
      "[1, 2, 3, 4, 5, 6]\n",
      "\t[1, 2, 3, 4, 5, 6]\n",
      "\t[1, 2, 3, 4, 5, 6]\n",
      "\t[1, 2, 3, 4, 5, 6]\n",
      "\t[1, 2, 3, 4, 5, 6]\n",
      "\t[1, 2, 3, 4, 5, 6]\n",
      "-------------------------\n",
      "[1, 2, 3, 4, 5, 6]\n",
      "\t[1, 2, 3, 4, 5, 6]\n",
      "\t[1, 2, 3, 4, 5, 6]\n",
      "\t[1, 2, 3, 4, 5, 6]\n",
      "\t[1, 2, 3, 4, 5, 6]\n",
      "-------------------------\n",
      "[1, 2, 3, 4, 5, 6]\n",
      "\t[1, 2, 3, 4, 5, 6]\n",
      "\t[1, 2, 3, 4, 5, 6]\n",
      "\t[1, 2, 3, 4, 5, 6]\n",
      "-------------------------\n",
      "[1, 2, 3, 4, 5, 6]\n",
      "\t[1, 2, 3, 4, 5, 6]\n",
      "\t[1, 2, 3, 4, 5, 6]\n",
      "-------------------------\n",
      "[1, 2, 3, 4, 5, 6]\n",
      "\t[1, 2, 3, 4, 5, 6]\n",
      "-------------------------\n",
      "[1, 2, 3, 4, 5, 6]\n",
      "-------------------------\n",
      "[1, 2, 3, 4, 5, 6]\n",
      "I ran 15 times!\n"
     ]
    },
    {
     "data": {
      "text/plain": [
       "[1, 2, 3, 4, 5, 6]"
      ]
     },
     "execution_count": 4,
     "metadata": {},
     "output_type": "execute_result"
    }
   ],
   "source": [
    "bubble_sort_visual_unoptimized([1,2,3,4,5,6])"
   ]
  },
  {
   "cell_type": "code",
   "execution_count": 8,
   "id": "e3801a61",
   "metadata": {},
   "outputs": [],
   "source": [
    "def bubble_sort_visual_optimized(a):\n",
    "    print(a)\n",
    "    count = 0\n",
    "    \n",
    "    for i in range(len(a)): # 1\n",
    "        is_sorted = True\n",
    "        \n",
    "        for j in range(len(a) - i - 1): # n\n",
    "            count += 1\n",
    "            \n",
    "            if a[j] > a[j+1]:\n",
    "                is_sorted = False\n",
    "                a[j], a[j+1] = a[j+1], a[j]\n",
    "                \n",
    "            print(f\"\\t{a}\")\n",
    "        \n",
    "        print(\"-\"*25)\n",
    "        print(a)\n",
    "        \n",
    "        if is_sorted:\n",
    "            break\n",
    "        \n",
    "    print(f\"I ran {count} times!\")\n",
    "                \n",
    "    return a"
   ]
  },
  {
   "cell_type": "code",
   "execution_count": 6,
   "id": "af7f339f",
   "metadata": {},
   "outputs": [],
   "source": [
    "def bubble_sort_visual_optimized(a):\n",
    "    # Print the initial unsorted array\n",
    "    print(a)\n",
    "    \n",
    "    # Initialize a variable to count the number of comparisons made\n",
    "    count = 0\n",
    "    \n",
    "    # Loop through the array from the first element to the second-to-last element\n",
    "    for i in range(len(a)):\n",
    "        # Initialize a boolean variable to check if the array is already sorted\n",
    "        is_sorted = True\n",
    "        \n",
    "        # Loop through the array from the first element to the element before the last i elements\n",
    "        for j in range(len(a) - i - 1):\n",
    "            # Increment the comparison counter\n",
    "            count += 1\n",
    "            \n",
    "            # If the current element is greater than the next element, swap them and mark the array as not sorted\n",
    "            if a[j] > a[j+1]:\n",
    "                is_sorted = False\n",
    "                a[j], a[j+1] = a[j+1], a[j]\n",
    "                \n",
    "            # Print the current state of the array after each comparison\n",
    "            print(f\"\\t{a}\")\n",
    "        \n",
    "        # Print a line of dashes to separate each iteration\n",
    "        print(\"-\"*25)\n",
    "        \n",
    "        # Print the current state of the array after each iteration\n",
    "        print(a)\n",
    "        \n",
    "        # If the array is already sorted, break out of the loop early\n",
    "        if is_sorted:\n",
    "            break\n",
    "        \n",
    "    # Print the number of comparisons made\n",
    "    print(f\"I ran {count} times!\")\n",
    "                \n",
    "    # Return the sorted array\n",
    "    return a\n"
   ]
  },
  {
   "cell_type": "code",
   "execution_count": 8,
   "id": "667723da",
   "metadata": {},
   "outputs": [
    {
     "name": "stdout",
     "output_type": "stream",
     "text": [
      "[1, 2, 3, 5, 4]\n",
      "\t[1, 2, 3, 5, 4]\n",
      "\t[1, 2, 3, 5, 4]\n",
      "\t[1, 2, 3, 5, 4]\n",
      "\t[1, 2, 3, 4, 5]\n",
      "-------------------------\n",
      "[1, 2, 3, 4, 5]\n",
      "\t[1, 2, 3, 4, 5]\n",
      "\t[1, 2, 3, 4, 5]\n",
      "\t[1, 2, 3, 4, 5]\n",
      "-------------------------\n",
      "[1, 2, 3, 4, 5]\n",
      "I ran 7 times!\n"
     ]
    },
    {
     "data": {
      "text/plain": [
       "[1, 2, 3, 4, 5]"
      ]
     },
     "execution_count": 8,
     "metadata": {},
     "output_type": "execute_result"
    }
   ],
   "source": [
    "bubble_sort_visual_optimized([1,2,3,5,4])"
   ]
  },
  {
   "cell_type": "code",
   "execution_count": 11,
   "id": "a14c1e00",
   "metadata": {},
   "outputs": [
    {
     "name": "stdout",
     "output_type": "stream",
     "text": [
      "[1, 2, 3, 4, 5]\n",
      "\t[1, 2, 3, 4, 5]\n",
      "\t[1, 2, 3, 4, 5]\n",
      "\t[1, 2, 3, 4, 5]\n",
      "\t[1, 2, 3, 4, 5]\n",
      "-------------------------\n",
      "[1, 2, 3, 4, 5]\n",
      "\t[1, 2, 3, 4, 5]\n",
      "\t[1, 2, 3, 4, 5]\n",
      "\t[1, 2, 3, 4, 5]\n",
      "-------------------------\n",
      "[1, 2, 3, 4, 5]\n",
      "\t[1, 2, 3, 4, 5]\n",
      "\t[1, 2, 3, 4, 5]\n",
      "-------------------------\n",
      "[1, 2, 3, 4, 5]\n",
      "\t[1, 2, 3, 4, 5]\n",
      "-------------------------\n",
      "[1, 2, 3, 4, 5]\n",
      "-------------------------\n",
      "[1, 2, 3, 4, 5]\n",
      "I ran 10 times!\n"
     ]
    },
    {
     "data": {
      "text/plain": [
       "[1, 2, 3, 4, 5]"
      ]
     },
     "execution_count": 11,
     "metadata": {},
     "output_type": "execute_result"
    }
   ],
   "source": [
    "bubble_sort_visual_unoptimized([1,2,3,4,5])"
   ]
  },
  {
   "cell_type": "code",
   "execution_count": 12,
   "id": "17d86e1f",
   "metadata": {},
   "outputs": [
    {
     "data": {
      "text/plain": [
       "'\\nO() -> Worst case time complexity\\nOmega() -> Best case time complexity\\n\\nUnoptimized Bubble Sort - \\nO(n^2)\\nOmega(n^2)\\n\\nOptimized Bubble Sort - \\nO(n^2)\\nOmega(n)\\n'"
      ]
     },
     "execution_count": 12,
     "metadata": {},
     "output_type": "execute_result"
    }
   ],
   "source": [
    "'''\n",
    "O() -> Worst case time complexity\n",
    "Omega() -> Best case time complexity\n",
    "\n",
    "Unoptimized Bubble Sort - \n",
    "O(n^2)\n",
    "Omega(n^2)\n",
    "\n",
    "Optimized Bubble Sort - \n",
    "O(n^2)\n",
    "Omega(n)\n",
    "'''"
   ]
  },
  {
   "cell_type": "code",
   "execution_count": 14,
   "id": "52400952",
   "metadata": {},
   "outputs": [],
   "source": [
    "def selection_sort(a):\n",
    "    for i in range(len(a) - 1):\n",
    "        current_min = i\n",
    "        \n",
    "        for j in range(i + 1, len(a)):\n",
    "            if a[current_min] > a[j]:\n",
    "                current_min = j\n",
    "        \n",
    "        if current_min != i:\n",
    "            a[current_min], a[i] = a[i], a[current_min]\n",
    "            \n",
    "    return a"
   ]
  },
  {
   "cell_type": "code",
   "execution_count": 15,
   "id": "67f67d89",
   "metadata": {},
   "outputs": [
    {
     "data": {
      "text/plain": [
       "[1, 2, 3, 4, 5, 8, 9]"
      ]
     },
     "execution_count": 15,
     "metadata": {},
     "output_type": "execute_result"
    }
   ],
   "source": [
    "selection_sort([2,8,5,3,9,4,1])"
   ]
  },
  {
   "cell_type": "code",
   "execution_count": 3,
   "id": "230ad794",
   "metadata": {},
   "outputs": [],
   "source": [
    "'''\n",
    "Selection Sort\n",
    "'''\n",
    " \n",
    "def selectionSort3(A):\n",
    "    for i in range(len(A)-1):\n",
    "        current_min=i\n",
    "        for j in range(i+1, len(A)):\n",
    "            if A[current_min]>A[j]:\n",
    "                current_min=j\n",
    "        if current_min != i:\n",
    "                A[current_min],A[i]=A[i],A[current_min]\n",
    "    return A "
   ]
  },
  {
   "cell_type": "code",
   "execution_count": 4,
   "id": "274090dd",
   "metadata": {},
   "outputs": [
    {
     "data": {
      "text/plain": [
       "[1, 2, 3, 4, 5, 6]"
      ]
     },
     "execution_count": 4,
     "metadata": {},
     "output_type": "execute_result"
    }
   ],
   "source": [
    "selectionSort3([1,3,2,4,6,5])"
   ]
  },
  {
   "cell_type": "code",
   "execution_count": 17,
   "id": "e216c11a",
   "metadata": {},
   "outputs": [],
   "source": [
    "def selection_sort_visual(a):\n",
    "    print(f\"{a}\")\n",
    "    \n",
    "    for i in range(len(a) - 1):\n",
    "        current_min = i\n",
    "        \n",
    "        for j in range(i + 1, len(a)):\n",
    "            if a[current_min] > a[j]:\n",
    "                current_min = j\n",
    "        \n",
    "        if current_min != i:\n",
    "            a[current_min], a[i] = a[i], a[current_min]\n",
    "            \n",
    "        print(f\"{a}\")\n",
    "            \n",
    "    return a"
   ]
  },
  {
   "cell_type": "code",
   "execution_count": 18,
   "id": "66bcb61d",
   "metadata": {},
   "outputs": [
    {
     "name": "stdout",
     "output_type": "stream",
     "text": [
      "[2, 8, 5, 3, 9, 4, 1]\n",
      "[1, 8, 5, 3, 9, 4, 2]\n",
      "[1, 2, 5, 3, 9, 4, 8]\n",
      "[1, 2, 3, 5, 9, 4, 8]\n",
      "[1, 2, 3, 4, 9, 5, 8]\n",
      "[1, 2, 3, 4, 5, 9, 8]\n",
      "[1, 2, 3, 4, 5, 8, 9]\n"
     ]
    },
    {
     "data": {
      "text/plain": [
       "[1, 2, 3, 4, 5, 8, 9]"
      ]
     },
     "execution_count": 18,
     "metadata": {},
     "output_type": "execute_result"
    }
   ],
   "source": [
    "selection_sort_visual([2,8,5,3,9,4,1])"
   ]
  },
  {
   "cell_type": "code",
   "execution_count": 19,
   "id": "719ef007",
   "metadata": {},
   "outputs": [
    {
     "data": {
      "text/plain": [
       "'\\nSelection Sort - \\nO(n^2)\\nOmega(n^2) <- Explore optimizations on selection sort\\n'"
      ]
     },
     "execution_count": 19,
     "metadata": {},
     "output_type": "execute_result"
    }
   ],
   "source": [
    "'''\n",
    "Selection Sort - \n",
    "O(n^2)\n",
    "Omega(n^2) <- Explore optimizations on selection sort\n",
    "'''"
   ]
  },
  {
   "cell_type": "code",
   "execution_count": 20,
   "id": "5db63735",
   "metadata": {},
   "outputs": [],
   "source": [
    "def insertion_sort(a):\n",
    "    for i in range(1, len(a)):\n",
    "        index_to_insert = i\n",
    "        j = i - 1\n",
    "        \n",
    "        while j >= 0:\n",
    "            if a[j] < a[index_to_insert]:\n",
    "                break\n",
    "                \n",
    "            a[j], a[index_to_insert] = a[index_to_insert], a[j]\n",
    "            index_to_insert = j\n",
    "            j -= 1\n",
    "    \n",
    "    return a"
   ]
  },
  {
   "cell_type": "code",
   "execution_count": 1,
   "id": "d05b2548",
   "metadata": {},
   "outputs": [],
   "source": [
    "def insertion_sort_visual(a):\n",
    "    for i in range(1, len(a)):\n",
    "        index_to_insert = i\n",
    "        j = i - 1\n",
    "        \n",
    "        print(a[:index_to_insert], \"|\", a[index_to_insert:])\n",
    "        \n",
    "        while j >= 0:\n",
    "            if a[j] < a[index_to_insert]:\n",
    "                break\n",
    "                \n",
    "            a[j], a[index_to_insert] = a[index_to_insert], a[j]\n",
    "            index_to_insert = j\n",
    "            j -= 1\n",
    "            \n",
    "            print(f\"\\t {a}\")\n",
    "            \n",
    "        print(\"-\"*25)\n",
    "    \n",
    "    return a"
   ]
  },
  {
   "cell_type": "code",
   "execution_count": 2,
   "id": "b751cffe",
   "metadata": {},
   "outputs": [
    {
     "name": "stdout",
     "output_type": "stream",
     "text": [
      "[5] | [3, 2, 4, 1]\n",
      "\t [3, 5, 2, 4, 1]\n",
      "-------------------------\n",
      "[3, 5] | [2, 4, 1]\n",
      "\t [3, 2, 5, 4, 1]\n",
      "\t [2, 3, 5, 4, 1]\n",
      "-------------------------\n",
      "[2, 3, 5] | [4, 1]\n",
      "\t [2, 3, 4, 5, 1]\n",
      "-------------------------\n",
      "[2, 3, 4, 5] | [1]\n",
      "\t [2, 3, 4, 1, 5]\n",
      "\t [2, 3, 1, 4, 5]\n",
      "\t [2, 1, 3, 4, 5]\n",
      "\t [1, 2, 3, 4, 5]\n",
      "-------------------------\n"
     ]
    },
    {
     "data": {
      "text/plain": [
       "[1, 2, 3, 4, 5]"
      ]
     },
     "execution_count": 2,
     "metadata": {},
     "output_type": "execute_result"
    }
   ],
   "source": [
    "insertion_sort_visual([5,3,2,4,1])"
   ]
  },
  {
   "cell_type": "code",
   "execution_count": 25,
   "id": "c9a65ee0",
   "metadata": {},
   "outputs": [
    {
     "data": {
      "text/plain": [
       "''"
      ]
     },
     "execution_count": 25,
     "metadata": {},
     "output_type": "execute_result"
    }
   ],
   "source": [
    "3'''\n",
    "Insertion Sort -\n",
    "O(n^2)\n",
    "Omega(n)\n",
    "'''"
   ]
  },
  {
   "cell_type": "code",
   "execution_count": 26,
   "id": "b08ceba7",
   "metadata": {},
   "outputs": [
    {
     "name": "stdout",
     "output_type": "stream",
     "text": [
      "[1] | [2, 3, 4, 5]\n",
      "-------------------------\n",
      "[1, 2] | [3, 4, 5]\n",
      "-------------------------\n",
      "[1, 2, 3] | [4, 5]\n",
      "-------------------------\n",
      "[1, 2, 3, 4] | [5]\n",
      "-------------------------\n"
     ]
    },
    {
     "data": {
      "text/plain": [
       "[1, 2, 3, 4, 5]"
      ]
     },
     "execution_count": 26,
     "metadata": {},
     "output_type": "execute_result"
    }
   ],
   "source": [
    "insertion_sort_visual([1,2,3,4,5])"
   ]
  },
  {
   "cell_type": "code",
   "execution_count": 27,
   "id": "f370175c",
   "metadata": {},
   "outputs": [],
   "source": [
    "def random(n):\n",
    "    x = n\n",
    "    y = n + x # y = 2n\n",
    "    z = n + y # z = 3n\n",
    "    \n",
    "    for i in range(x):\n",
    "        if z > 2 * n:\n",
    "            break"
   ]
  },
  {
   "cell_type": "code",
   "execution_count": 28,
   "id": "56993939",
   "metadata": {},
   "outputs": [],
   "source": [
    "def random(n):\n",
    "    x = n # 1 operation\n",
    "\n",
    "    for i in range(x): # n operations\n",
    "        for j in range(x): # 1 operatiion -> because of the break statement\n",
    "            if x == n:\n",
    "                break"
   ]
  },
  {
   "cell_type": "code",
   "execution_count": 2,
   "id": "e62aa25f",
   "metadata": {},
   "outputs": [
    {
     "data": {
      "text/plain": [
       "65"
      ]
     },
     "execution_count": 2,
     "metadata": {},
     "output_type": "execute_result"
    }
   ],
   "source": [
    "## Lexicographical sorting\n",
    "\n",
    "def bubble_sort_strings(lst1)"
   ]
  },
  {
   "cell_type": "code",
   "execution_count": 8,
   "id": "76e20c08",
   "metadata": {},
   "outputs": [
    {
     "data": {
      "text/plain": [
       "True"
      ]
     },
     "execution_count": 8,
     "metadata": {},
     "output_type": "execute_result"
    }
   ],
   "source": [
    "\"alpha\" < \"gamma\""
   ]
  },
  {
   "cell_type": "code",
   "execution_count": 1,
   "id": "8bf6ad89",
   "metadata": {},
   "outputs": [
    {
     "name": "stdout",
     "output_type": "stream",
     "text": [
      "a a c\n"
     ]
    }
   ],
   "source": [
    "\n",
    "for i in range(1):\n",
    "    for j in range(2):\n",
    "        for k in range(1):\n",
    "            print(\"a\", end=\" \")\n",
    "        print(end=\"\")\n",
    "    print(\"c\")"
   ]
  },
  {
   "cell_type": "code",
   "execution_count": 3,
   "id": "9651d7f2",
   "metadata": {},
   "outputs": [
    {
     "name": "stdout",
     "output_type": "stream",
     "text": [
      "1 2 1 3 2 2 2 3 "
     ]
    }
   ],
   "source": [
    "x = [1, 2]\n",
    "y = [2, 3]\n",
    "\n",
    "for i in x:\n",
    "    for j in y:\n",
    "        print(i, j, end= \" \")"
   ]
  },
  {
   "cell_type": "code",
   "execution_count": 2,
   "id": "ab8731bb",
   "metadata": {},
   "outputs": [],
   "source": [
    "def fibonacci_test(n):\n",
    "\n",
    "    if n < 0:\n",
    "        return \"NOT DEFINED\"\n",
    "    elif n==0:\n",
    "        return 0\n",
    "    elif n==1 or n==2:\n",
    "        return 1\n",
    "    else:\n",
    "        return fibonacci_test(n-1)+fibonacci_test(n-2)"
   ]
  },
  {
   "cell_type": "code",
   "execution_count": 4,
   "id": "61a87412",
   "metadata": {},
   "outputs": [
    {
     "data": {
      "text/plain": [
       "8"
      ]
     },
     "execution_count": 4,
     "metadata": {},
     "output_type": "execute_result"
    }
   ],
   "source": [
    "fibonacci_test(6)"
   ]
  },
  {
   "cell_type": "code",
   "execution_count": 1,
   "id": "07ae504e",
   "metadata": {},
   "outputs": [],
   "source": [
    "A=['a', 'b', 'c', 'd']\n",
    "def lexluther_sort(A):\n",
    "    for i in range(len(A)):\n",
    "        for j in range(len(A)-i-1):\n",
    "            if A[j]>A[j+1]:\n",
    "                A[j],A[j+1]=A[j+1],A[j]\n",
    "    return A\n"
   ]
  },
  {
   "cell_type": "code",
   "execution_count": 4,
   "id": "41e83508",
   "metadata": {},
   "outputs": [
    {
     "data": {
      "text/plain": [
       "['alpha', 'beta', 'delta', 'gamma']"
      ]
     },
     "execution_count": 4,
     "metadata": {},
     "output_type": "execute_result"
    }
   ],
   "source": [
    "A=['alpha', 'gamma', 'beta', 'delta'] \n",
    "lexluther_sort(A)"
   ]
  },
  {
   "cell_type": "code",
   "execution_count": 3,
   "id": "65418dd2",
   "metadata": {},
   "outputs": [],
   "source": [
    "def selection_sort2(A):\n",
    "    for i in range(len(A)):\n",
    "        for j in range(len(A)-1):\n",
    "            if A[i] > A[j]:\n",
    "                A[i],A[j]=A[j],A[i]\n",
    "    return A"
   ]
  },
  {
   "cell_type": "code",
   "execution_count": 4,
   "id": "9f380b2f",
   "metadata": {},
   "outputs": [
    {
     "data": {
      "text/plain": [
       "[5, 4, 3, 2, 1]"
      ]
     },
     "execution_count": 4,
     "metadata": {},
     "output_type": "execute_result"
    }
   ],
   "source": [
    "A=[1,3,4,2,5]\n",
    "\n",
    "selection_sort2(A)"
   ]
  },
  {
   "cell_type": "code",
   "execution_count": 3,
   "id": "301cdf6c",
   "metadata": {},
   "outputs": [],
   "source": [
    "str1='hihifotshiihi'\n",
    "counter=0\n",
    "for i in range(len(str1)):\n",
    "    if str1[i]=='h' and str1[i+1]=='i':\n",
    "        counter+=1"
   ]
  },
  {
   "cell_type": "code",
   "execution_count": 4,
   "id": "675279d5",
   "metadata": {},
   "outputs": [
    {
     "data": {
      "text/plain": [
       "4"
      ]
     },
     "execution_count": 4,
     "metadata": {},
     "output_type": "execute_result"
    }
   ],
   "source": [
    "counter"
   ]
  },
  {
   "cell_type": "code",
   "execution_count": 11,
   "id": "902ecada",
   "metadata": {},
   "outputs": [],
   "source": [
    "def hicounter(s, count=0):\n",
    "    if 'hi' not in s:\n",
    "        return 0\n",
    "    else:\n",
    "        return hicounter(s.replace('hi','',1))+1\n"
   ]
  },
  {
   "cell_type": "code",
   "execution_count": 13,
   "id": "7ebc1aa1",
   "metadata": {},
   "outputs": [
    {
     "data": {
      "text/plain": [
       "4"
      ]
     },
     "execution_count": 13,
     "metadata": {},
     "output_type": "execute_result"
    }
   ],
   "source": [
    "hicounter('hinovhiahihi')"
   ]
  },
  {
   "cell_type": "code",
   "execution_count": 10,
   "id": "45aa8d96",
   "metadata": {},
   "outputs": [
    {
     "data": {
      "text/plain": [
       "'novahihi'"
      ]
     },
     "execution_count": 10,
     "metadata": {},
     "output_type": "execute_result"
    }
   ],
   "source": [
    "'hinovahihi'.replace('hi','',1)"
   ]
  },
  {
   "cell_type": "code",
   "execution_count": null,
   "id": "8d9c5861",
   "metadata": {},
   "outputs": [],
   "source": [
    "def countHi(s, count=0):\n",
    "    ''' s-indicates the string,\n",
    "         output:Return the count of occurrences of \"hi\" in s'''\n",
    "    \n",
    "    # YOUR CODE GOES HERE\n",
    "\n",
    "    if \"hi\" not in s:\n",
    "        return 0\n",
    "    else:\n",
    "        return countHi(s.replace(s, 'hi',1))+1"
   ]
  },
  {
   "cell_type": "code",
   "execution_count": null,
   "id": "8a15a7e0",
   "metadata": {},
   "outputs": [],
   "source": [
    "def bin_search(arr, key):\n",
    "  low = 0\n",
    "  high = len(arr) - 1\n",
    "  mid = 0\n",
    "  while :              #blank1\n",
    "    mid = ________           #blank2\n",
    "    if arr[mid] < key:\n",
    "      low = mid + 1\n",
    "    elif arr[mid] > key:\n",
    "      high = mid - 1\n",
    "    else:\n",
    "      return mid\n",
    "  return \"Element not found\""
   ]
  },
  {
   "cell_type": "code",
   "execution_count": null,
   "id": "5582cfeb",
   "metadata": {},
   "outputs": [],
   "source": [
    "def insertionsort(A):\n",
    "    X=[A[0]]\n",
    "    for i in range(len(A)):\n",
    "        if A[i]<A[i+1]:\n"
   ]
  },
  {
   "cell_type": "code",
   "execution_count": 1,
   "id": "754538b3",
   "metadata": {},
   "outputs": [],
   "source": [
    "class Students:\n",
    "    pass"
   ]
  },
  {
   "cell_type": "code",
   "execution_count": 2,
   "id": "acf59a66",
   "metadata": {},
   "outputs": [],
   "source": [
    "s1=Students()"
   ]
  },
  {
   "cell_type": "code",
   "execution_count": 3,
   "id": "0d6aaf8c",
   "metadata": {},
   "outputs": [],
   "source": [
    "s1.name = \"Gaurav\""
   ]
  },
  {
   "cell_type": "code",
   "execution_count": 5,
   "id": "5f0006b6",
   "metadata": {},
   "outputs": [
    {
     "data": {
      "text/plain": [
       "<__main__.Students at 0x1d619203880>"
      ]
     },
     "execution_count": 5,
     "metadata": {},
     "output_type": "execute_result"
    }
   ],
   "source": [
    "s1"
   ]
  }
 ],
 "metadata": {
  "kernelspec": {
   "display_name": "Python 3",
   "language": "python",
   "name": "python3"
  },
  "language_info": {
   "codemirror_mode": {
    "name": "ipython",
    "version": 3
   },
   "file_extension": ".py",
   "mimetype": "text/x-python",
   "name": "python",
   "nbconvert_exporter": "python",
   "pygments_lexer": "ipython3",
   "version": "3.10.2"
  },
  "vscode": {
   "interpreter": {
    "hash": "26de051ba29f2982a8de78e945f0abaf191376122a1563185a90213a26c5da77"
   }
  }
 },
 "nbformat": 4,
 "nbformat_minor": 5
}
