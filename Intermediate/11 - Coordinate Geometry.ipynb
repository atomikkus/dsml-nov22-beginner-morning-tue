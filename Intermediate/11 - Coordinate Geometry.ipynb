{
 "cells": [
  {
   "cell_type": "code",
   "execution_count": 2,
   "id": "9f629545",
   "metadata": {},
   "outputs": [
    {
     "data": {
      "text/plain": [
       "\"\\nHOMEWORK ->\\nQuestion 1 - \\n\\nYou are given 4 points in order, determine whether it's a rectangle or not.\\n\\nINPUT - [(0,-1),(6,7),(-2,3),(8,3)]\\nOUTPUT - True / False\\n\""
      ]
     },
     "execution_count": 2,
     "metadata": {},
     "output_type": "execute_result"
    }
   ],
   "source": [
    "'''\n",
    "HOMEWORK ->\n",
    "Question 1 - \n",
    "\n",
    "You are given 4 points in order, determine whether it's a rectangle or not.\n",
    "\n",
    "INPUT - [(0,-1),(6,7),(-2,3),(8,3)]\n",
    "OUTPUT - True / False\n",
    "'''"
   ]
  },
  {
   "cell_type": "code",
   "execution_count": 3,
   "id": "fed77be6",
   "metadata": {},
   "outputs": [
    {
     "data": {
      "text/plain": [
       "\"\\nQuestion 2 -\\n\\nGiven three points in order, determine whether it's a triangle or not.\\n\""
      ]
     },
     "execution_count": 3,
     "metadata": {},
     "output_type": "execute_result"
    }
   ],
   "source": [
    "'''\n",
    "Question 2 -\n",
    "\n",
    "Given three points in order, determine whether it's a triangle or not.\n",
    "'''"
   ]
  },
  {
   "cell_type": "code",
   "execution_count": 4,
   "id": "6eae2364",
   "metadata": {},
   "outputs": [],
   "source": [
    "# Sum of any two sides > third_side"
   ]
  },
  {
   "cell_type": "code",
   "execution_count": 5,
   "id": "96d28b39",
   "metadata": {},
   "outputs": [],
   "source": [
    "def distance_two_points(a, b):\n",
    "    distance = ((b[1] - a[1])**2 + (b[0] - a[0])**2)**0.5\n",
    "    return distance"
   ]
  },
  {
   "cell_type": "code",
   "execution_count": 6,
   "id": "e61d32d0",
   "metadata": {},
   "outputs": [],
   "source": [
    "def check_triangle(coordinates):\n",
    "    ab = distance_two_points(coordinates[0], coordinates[1])\n",
    "    bc = distance_two_points(coordinates[1], coordinates[2])\n",
    "    ca = distance_two_points(coordinates[2], coordinates[0])\n",
    "    \n",
    "    if ab + bc > ca and bc + ca > ab and ab + ca > bc:\n",
    "        return True\n",
    "    \n",
    "    return False"
   ]
  },
  {
   "cell_type": "code",
   "execution_count": 7,
   "id": "2b847703",
   "metadata": {},
   "outputs": [
    {
     "data": {
      "text/plain": [
       "True"
      ]
     },
     "execution_count": 7,
     "metadata": {},
     "output_type": "execute_result"
    }
   ],
   "source": [
    "check_triangle([(4,5),(2,3),(0,9)])"
   ]
  },
  {
   "cell_type": "code",
   "execution_count": null,
   "id": "cde0c769",
   "metadata": {},
   "outputs": [],
   "source": []
  }
 ],
 "metadata": {
  "kernelspec": {
   "display_name": "Python 3 (ipykernel)",
   "language": "python",
   "name": "python3"
  },
  "language_info": {
   "codemirror_mode": {
    "name": "ipython",
    "version": 3
   },
   "file_extension": ".py",
   "mimetype": "text/x-python",
   "name": "python",
   "nbconvert_exporter": "python",
   "pygments_lexer": "ipython3",
   "version": "3.9.5"
  }
 },
 "nbformat": 4,
 "nbformat_minor": 5
}
