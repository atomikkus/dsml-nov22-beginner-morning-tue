{
 "cells": [
  {
   "cell_type": "code",
   "execution_count": 1,
   "id": "34cf343f",
   "metadata": {},
   "outputs": [],
   "source": [
    "def square(a):\n",
    "    return a**2"
   ]
  },
  {
   "cell_type": "code",
   "execution_count": 2,
   "id": "81654d7f",
   "metadata": {},
   "outputs": [],
   "source": [
    "square2 = lambda a: a**2"
   ]
  },
  {
   "cell_type": "code",
   "execution_count": 3,
   "id": "5a3c33f8",
   "metadata": {},
   "outputs": [
    {
     "data": {
      "text/plain": [
       "16"
      ]
     },
     "execution_count": 3,
     "metadata": {},
     "output_type": "execute_result"
    }
   ],
   "source": [
    "square2(4)"
   ]
  },
  {
   "cell_type": "code",
   "execution_count": 4,
   "id": "f210c46a",
   "metadata": {},
   "outputs": [
    {
     "data": {
      "text/plain": [
       "function"
      ]
     },
     "execution_count": 4,
     "metadata": {},
     "output_type": "execute_result"
    }
   ],
   "source": [
    "type(square2)"
   ]
  },
  {
   "cell_type": "code",
   "execution_count": 11,
   "id": "e2bf6c57",
   "metadata": {},
   "outputs": [],
   "source": [
    "concat = lambda x, y: x + y\n",
    "# Accept multiple arguments"
   ]
  },
  {
   "cell_type": "code",
   "execution_count": 8,
   "id": "0f96b78b",
   "metadata": {},
   "outputs": [
    {
     "data": {
      "text/plain": [
       "'randomstrings'"
      ]
     },
     "execution_count": 8,
     "metadata": {},
     "output_type": "execute_result"
    }
   ],
   "source": [
    "concat(\"random\", \"strings\")"
   ]
  },
  {
   "cell_type": "code",
   "execution_count": 10,
   "id": "98c8ba99",
   "metadata": {},
   "outputs": [
    {
     "data": {
      "text/plain": [
       "343"
      ]
     },
     "execution_count": 10,
     "metadata": {},
     "output_type": "execute_result"
    }
   ],
   "source": [
    "(lambda x: x**3)(7) # Anonymous Functions"
   ]
  },
  {
   "cell_type": "code",
   "execution_count": 12,
   "id": "c4234049",
   "metadata": {},
   "outputs": [],
   "source": [
    "max_2 = lambda x, y: x if x > y else y"
   ]
  },
  {
   "cell_type": "code",
   "execution_count": 13,
   "id": "c97b4023",
   "metadata": {},
   "outputs": [],
   "source": [
    "a = [5,6,7,2,3,1,9,0]"
   ]
  },
  {
   "cell_type": "code",
   "execution_count": 14,
   "id": "27436642",
   "metadata": {},
   "outputs": [
    {
     "data": {
      "text/plain": [
       "[0, 1, 2, 3, 5, 6, 7, 9]"
      ]
     },
     "execution_count": 14,
     "metadata": {},
     "output_type": "execute_result"
    }
   ],
   "source": [
    "sorted(a)"
   ]
  },
  {
   "cell_type": "code",
   "execution_count": 17,
   "id": "fe00bba8",
   "metadata": {},
   "outputs": [],
   "source": [
    "# sorted? -> HINT"
   ]
  },
  {
   "cell_type": "code",
   "execution_count": 18,
   "id": "9ac6bbce",
   "metadata": {},
   "outputs": [],
   "source": [
    "students = [\n",
    "    {\"name\": \"A\", \"marks\": 60},\n",
    "    {\"name\": \"B\", \"marks\": 90},\n",
    "    {\"name\": \"C\", \"marks\": 50},\n",
    "    {\"name\": \"D\", \"marks\": 80},\n",
    "    {\"name\": \"E\", \"marks\": 70},\n",
    "]"
   ]
  },
  {
   "cell_type": "code",
   "execution_count": 19,
   "id": "bb3bbe2b",
   "metadata": {},
   "outputs": [
    {
     "ename": "TypeError",
     "evalue": "'<' not supported between instances of 'dict' and 'dict'",
     "output_type": "error",
     "traceback": [
      "\u001b[0;31m---------------------------------------------------------------------------\u001b[0m",
      "\u001b[0;31mTypeError\u001b[0m                                 Traceback (most recent call last)",
      "\u001b[0;32m/var/folders/nn/c52y0d3j0gq59dpsswchkt2r0000gn/T/ipykernel_81131/645918957.py\u001b[0m in \u001b[0;36m<module>\u001b[0;34m\u001b[0m\n\u001b[0;32m----> 1\u001b[0;31m \u001b[0msorted\u001b[0m\u001b[0;34m(\u001b[0m\u001b[0mstudents\u001b[0m\u001b[0;34m)\u001b[0m\u001b[0;34m\u001b[0m\u001b[0;34m\u001b[0m\u001b[0m\n\u001b[0m",
      "\u001b[0;31mTypeError\u001b[0m: '<' not supported between instances of 'dict' and 'dict'"
     ]
    }
   ],
   "source": [
    "sorted(students)"
   ]
  },
  {
   "cell_type": "code",
   "execution_count": 22,
   "id": "7244a4cb",
   "metadata": {},
   "outputs": [
    {
     "data": {
      "text/plain": [
       "[{'name': 'C', 'marks': 50},\n",
       " {'name': 'A', 'marks': 60},\n",
       " {'name': 'E', 'marks': 70},\n",
       " {'name': 'D', 'marks': 80},\n",
       " {'name': 'B', 'marks': 90}]"
      ]
     },
     "execution_count": 22,
     "metadata": {},
     "output_type": "execute_result"
    }
   ],
   "source": [
    "sorted(students, key = lambda x: x[\"marks\"])"
   ]
  },
  {
   "cell_type": "code",
   "execution_count": 24,
   "id": "a41e05f3",
   "metadata": {},
   "outputs": [
    {
     "data": {
      "text/plain": [
       "'\\nHOMEWORK!\\n\\n-> Modify current sorting codes so that they can accept a key and sort any DS on the basis of that key.\\n'"
      ]
     },
     "execution_count": 24,
     "metadata": {},
     "output_type": "execute_result"
    }
   ],
   "source": [
    "'''\n",
    "HOMEWORK!\n",
    "\n",
    "-> Modify current sorting codes so that they can accept a key and sort any DS on the basis of that key.\n",
    "'''"
   ]
  },
  {
   "cell_type": "code",
   "execution_count": 27,
   "id": "5a53fea0",
   "metadata": {},
   "outputs": [],
   "source": [
    "def sum2(a, b):\n",
    "    return a + b"
   ]
  },
  {
   "cell_type": "code",
   "execution_count": 28,
   "id": "24f2d8c9",
   "metadata": {},
   "outputs": [],
   "source": [
    "sum3 = sum2"
   ]
  },
  {
   "cell_type": "code",
   "execution_count": 25,
   "id": "b5fb4818",
   "metadata": {},
   "outputs": [],
   "source": [
    "def gen_exp(n):\n",
    "    def exp(x):\n",
    "        return x**n\n",
    "    \n",
    "    return exp"
   ]
  },
  {
   "cell_type": "code",
   "execution_count": 26,
   "id": "e50ba2b9",
   "metadata": {},
   "outputs": [],
   "source": [
    "exp_5 = gen_exp(5)"
   ]
  },
  {
   "cell_type": "code",
   "execution_count": 29,
   "id": "95b4cd19",
   "metadata": {},
   "outputs": [
    {
     "data": {
      "text/plain": [
       "32"
      ]
     },
     "execution_count": 29,
     "metadata": {},
     "output_type": "execute_result"
    }
   ],
   "source": [
    "exp_5(2)"
   ]
  },
  {
   "cell_type": "code",
   "execution_count": 30,
   "id": "f6255596",
   "metadata": {},
   "outputs": [],
   "source": [
    "exp_4 = gen_exp(4)"
   ]
  },
  {
   "cell_type": "code",
   "execution_count": 31,
   "id": "36b48b29",
   "metadata": {},
   "outputs": [
    {
     "data": {
      "text/plain": [
       "81"
      ]
     },
     "execution_count": 31,
     "metadata": {},
     "output_type": "execute_result"
    }
   ],
   "source": [
    "exp_4(3)"
   ]
  },
  {
   "cell_type": "code",
   "execution_count": 32,
   "id": "61187bd9",
   "metadata": {},
   "outputs": [],
   "source": [
    "# DECORATORS"
   ]
  },
  {
   "cell_type": "code",
   "execution_count": 42,
   "id": "0881917f",
   "metadata": {},
   "outputs": [],
   "source": [
    "def say_hello():\n",
    "    print(\"Hello!\")"
   ]
  },
  {
   "cell_type": "code",
   "execution_count": 43,
   "id": "39678cdf",
   "metadata": {},
   "outputs": [],
   "source": [
    "def say_bye():\n",
    "    print(\"Bye!\")"
   ]
  },
  {
   "cell_type": "code",
   "execution_count": 44,
   "id": "946540ab",
   "metadata": {},
   "outputs": [],
   "source": [
    "def say_random():\n",
    "    print(\"Random!\")"
   ]
  },
  {
   "cell_type": "code",
   "execution_count": 36,
   "id": "a102eb24",
   "metadata": {},
   "outputs": [
    {
     "name": "stdout",
     "output_type": "stream",
     "text": [
      "Hello!\n"
     ]
    }
   ],
   "source": [
    "say_hello()"
   ]
  },
  {
   "cell_type": "code",
   "execution_count": 37,
   "id": "80be7696",
   "metadata": {},
   "outputs": [],
   "source": [
    "def say_hello():\n",
    "    print(\"-\"*20)\n",
    "    print(\"Hello!\")\n",
    "    print(\"-\"*20)"
   ]
  },
  {
   "cell_type": "code",
   "execution_count": 38,
   "id": "2c0899de",
   "metadata": {},
   "outputs": [
    {
     "name": "stdout",
     "output_type": "stream",
     "text": [
      "--------------------\n",
      "Hello!\n",
      "--------------------\n"
     ]
    }
   ],
   "source": [
    "say_hello()"
   ]
  },
  {
   "cell_type": "code",
   "execution_count": 56,
   "id": "de1e30d6",
   "metadata": {},
   "outputs": [],
   "source": [
    "def pretty(func):\n",
    "    def wrapper():\n",
    "        print(\"-\"*20) # any amount of logic\n",
    "        func()\n",
    "        print(\"-\"*20) # any amount of logic\n",
    "        \n",
    "    return wrapper"
   ]
  },
  {
   "cell_type": "code",
   "execution_count": 47,
   "id": "3b7430a8",
   "metadata": {},
   "outputs": [],
   "source": [
    "hello_pretty = pretty(say_hello)"
   ]
  },
  {
   "cell_type": "code",
   "execution_count": 55,
   "id": "2c7a5a86",
   "metadata": {},
   "outputs": [],
   "source": [
    "# hello_pretty()"
   ]
  },
  {
   "cell_type": "code",
   "execution_count": 50,
   "id": "175e6913",
   "metadata": {},
   "outputs": [],
   "source": [
    "bye_pretty = pretty(say_bye)"
   ]
  },
  {
   "cell_type": "code",
   "execution_count": 54,
   "id": "d08790f5",
   "metadata": {},
   "outputs": [],
   "source": [
    "# bye_pretty()"
   ]
  },
  {
   "cell_type": "code",
   "execution_count": 52,
   "id": "d1a1a744",
   "metadata": {},
   "outputs": [],
   "source": [
    "@pretty\n",
    "def say_amazing():\n",
    "    print(\"AMAZING!\")"
   ]
  },
  {
   "cell_type": "code",
   "execution_count": 53,
   "id": "b5495d17",
   "metadata": {},
   "outputs": [
    {
     "name": "stdout",
     "output_type": "stream",
     "text": [
      "--------------------\n",
      "AMAZING!\n",
      "--------------------\n"
     ]
    }
   ],
   "source": [
    "say_amazing()"
   ]
  },
  {
   "cell_type": "code",
   "execution_count": 57,
   "id": "ae1720dc",
   "metadata": {},
   "outputs": [],
   "source": [
    "a = [print, 56, 78, \"random\"]"
   ]
  },
  {
   "cell_type": "code",
   "execution_count": 58,
   "id": "9f83f2ce",
   "metadata": {},
   "outputs": [
    {
     "name": "stdout",
     "output_type": "stream",
     "text": [
      "WHAT?\n"
     ]
    }
   ],
   "source": [
    "a[0](\"WHAT?\")"
   ]
  },
  {
   "cell_type": "code",
   "execution_count": 59,
   "id": "80d8ed0d",
   "metadata": {},
   "outputs": [],
   "source": [
    "a = {\n",
    "    \"print\": print\n",
    "}"
   ]
  },
  {
   "cell_type": "code",
   "execution_count": 60,
   "id": "fad6a394",
   "metadata": {},
   "outputs": [
    {
     "name": "stdout",
     "output_type": "stream",
     "text": [
      "WHATTTT?\n"
     ]
    }
   ],
   "source": [
    "a[\"print\"](\"WHATTTT?\")"
   ]
  },
  {
   "cell_type": "code",
   "execution_count": null,
   "id": "c15d19d4",
   "metadata": {},
   "outputs": [],
   "source": []
  }
 ],
 "metadata": {
  "kernelspec": {
   "display_name": "Python 3 (ipykernel)",
   "language": "python",
   "name": "python3"
  },
  "language_info": {
   "codemirror_mode": {
    "name": "ipython",
    "version": 3
   },
   "file_extension": ".py",
   "mimetype": "text/x-python",
   "name": "python",
   "nbconvert_exporter": "python",
   "pygments_lexer": "ipython3",
   "version": "3.9.5"
  }
 },
 "nbformat": 4,
 "nbformat_minor": 5
}
