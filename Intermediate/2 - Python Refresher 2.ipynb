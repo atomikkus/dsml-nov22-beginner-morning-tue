{
 "cells": [
  {
   "cell_type": "code",
   "execution_count": 1,
   "id": "6ef21629",
   "metadata": {},
   "outputs": [],
   "source": [
    "result = [ [ i*j for j in range(1, 11) ] for i in range(1, 11) ]"
   ]
  },
  {
   "cell_type": "code",
   "execution_count": 2,
   "id": "fa6082b3",
   "metadata": {},
   "outputs": [
    {
     "data": {
      "text/plain": [
       "[[1, 2, 3, 4, 5, 6, 7, 8, 9, 10],\n",
       " [2, 4, 6, 8, 10, 12, 14, 16, 18, 20],\n",
       " [3, 6, 9, 12, 15, 18, 21, 24, 27, 30],\n",
       " [4, 8, 12, 16, 20, 24, 28, 32, 36, 40],\n",
       " [5, 10, 15, 20, 25, 30, 35, 40, 45, 50],\n",
       " [6, 12, 18, 24, 30, 36, 42, 48, 54, 60],\n",
       " [7, 14, 21, 28, 35, 42, 49, 56, 63, 70],\n",
       " [8, 16, 24, 32, 40, 48, 56, 64, 72, 80],\n",
       " [9, 18, 27, 36, 45, 54, 63, 72, 81, 90],\n",
       " [10, 20, 30, 40, 50, 60, 70, 80, 90, 100]]"
      ]
     },
     "execution_count": 2,
     "metadata": {},
     "output_type": "execute_result"
    }
   ],
   "source": [
    "result"
   ]
  },
  {
   "cell_type": "code",
   "execution_count": 3,
   "id": "98a45e9a",
   "metadata": {},
   "outputs": [],
   "source": [
    "result1 = [ i*j for j in range(1, 11) for i in range(1, 11) ]"
   ]
  },
  {
   "cell_type": "code",
   "execution_count": 5,
   "id": "f979a0a6",
   "metadata": {},
   "outputs": [],
   "source": [
    "# result1"
   ]
  },
  {
   "cell_type": "code",
   "execution_count": 10,
   "id": "838f50c2",
   "metadata": {},
   "outputs": [
    {
     "data": {
      "text/plain": [
       "'\\nAccording to our understanding ->\\n    - for i in [\"A\", \"B\"] -> OUTER LOOP\\n    - for j in [1, 2] -> INNER LOOP\\n    \\n    - OUTPUT -> [(\"A\", 1), (\"A\", 2), (\"B\", 1), (\"B\", 2)]\\n'"
      ]
     },
     "execution_count": 10,
     "metadata": {},
     "output_type": "execute_result"
    }
   ],
   "source": [
    "random = [ (i, j) for j in [1, 2] for i in [\"A\", \"B\"] ]\n",
    "# LEFT (OUTERMOST) -> RIGHT (INNERMOST)\n",
    "\n",
    "'''\n",
    "According to our understanding ->\n",
    "    - for i in [\"A\", \"B\"] -> OUTER LOOP\n",
    "    - for j in [1, 2] -> INNER LOOP\n",
    "    \n",
    "    - OUTPUT -> [(\"A\", 1), (\"A\", 2), (\"B\", 1), (\"B\", 2)]\n",
    "'''"
   ]
  },
  {
   "cell_type": "code",
   "execution_count": 11,
   "id": "d1018ef1",
   "metadata": {},
   "outputs": [
    {
     "data": {
      "text/plain": [
       "[('A', 1), ('B', 1), ('A', 2), ('B', 2)]"
      ]
     },
     "execution_count": 11,
     "metadata": {},
     "output_type": "execute_result"
    }
   ],
   "source": [
    "random"
   ]
  },
  {
   "cell_type": "code",
   "execution_count": 12,
   "id": "6bd0b3ae",
   "metadata": {},
   "outputs": [
    {
     "data": {
      "text/plain": [
       "'\\nQuestion 1 - \\n\\nEncryption - We have 26 letters in the english alphabet.\\nLet\\'s say I place a mirror between letters M and N splitting the alphabet into two mirrored sides.\\n\\nGiven a word, produce the mirror image of that word.\\n\\nINPUT - \"acy\"\\nOUTPUT - \"zxb\"\\n\\nEXPLANATION ->\\n\"a\" -> \"z\"\\n\"c\" -> \"x\"\\n\"y\" -> \"b\"\\n'"
      ]
     },
     "execution_count": 12,
     "metadata": {},
     "output_type": "execute_result"
    }
   ],
   "source": [
    "'''\n",
    "Question 1 - \n",
    "\n",
    "Encryption - We have 26 letters in the english alphabet.\n",
    "Let's say I place a mirror between letters M and N splitting the alphabet into two mirrored sides.\n",
    "\n",
    "Given a word, produce the mirror image of that word.\n",
    "\n",
    "INPUT - \"acy\"\n",
    "OUTPUT - \"zxb\"\n",
    "\n",
    "EXPLANATION ->\n",
    "\"a\" -> \"z\"\n",
    "\"c\" -> \"x\"\n",
    "\"y\" -> \"b\"\n",
    "'''"
   ]
  },
  {
   "cell_type": "code",
   "execution_count": 16,
   "id": "b1673bd7",
   "metadata": {},
   "outputs": [],
   "source": [
    "letter = \"m\"\n",
    "distance_from_a = ord(letter) - ord(\"a\")"
   ]
  },
  {
   "cell_type": "code",
   "execution_count": 17,
   "id": "ef7f5552",
   "metadata": {},
   "outputs": [
    {
     "data": {
      "text/plain": [
       "12"
      ]
     },
     "execution_count": 17,
     "metadata": {},
     "output_type": "execute_result"
    }
   ],
   "source": [
    "distance_from_a"
   ]
  },
  {
   "cell_type": "code",
   "execution_count": 19,
   "id": "a4583fbb",
   "metadata": {},
   "outputs": [],
   "source": [
    "mirror_letter = chr(ord(\"z\") - distance_from_a)"
   ]
  },
  {
   "cell_type": "code",
   "execution_count": 20,
   "id": "ace88c22",
   "metadata": {},
   "outputs": [
    {
     "data": {
      "text/plain": [
       "'n'"
      ]
     },
     "execution_count": 20,
     "metadata": {},
     "output_type": "execute_result"
    }
   ],
   "source": [
    "mirror_letter"
   ]
  },
  {
   "cell_type": "code",
   "execution_count": 21,
   "id": "1914ab02",
   "metadata": {},
   "outputs": [],
   "source": [
    "def mirror_image_encryption(message):\n",
    "    result = \"\"\n",
    "    \n",
    "    for i in message:\n",
    "        if i == \" \":\n",
    "            result += i\n",
    "        else:\n",
    "            distance = ord(i) - ord(\"a\")\n",
    "            result += chr(ord(\"z\") - distance)\n",
    "            \n",
    "    return result"
   ]
  },
  {
   "cell_type": "code",
   "execution_count": 22,
   "id": "dca7c18e",
   "metadata": {},
   "outputs": [
    {
     "data": {
      "text/plain": [
       "'abcd zyxw nm'"
      ]
     },
     "execution_count": 22,
     "metadata": {},
     "output_type": "execute_result"
    }
   ],
   "source": [
    "mirror_image_encryption(\"zyxw abcd mn\")"
   ]
  },
  {
   "cell_type": "code",
   "execution_count": 23,
   "id": "bfb7c7e1",
   "metadata": {},
   "outputs": [],
   "source": [
    "def coolest_pattern_ever(n):\n",
    "    for i in range(n):\n",
    "        for j in range(n):\n",
    "            print(max(i + 1, j + 1, n - i, n - j), end = \" \")\n",
    "            \n",
    "        print()"
   ]
  },
  {
   "cell_type": "code",
   "execution_count": 27,
   "id": "830bba94",
   "metadata": {},
   "outputs": [
    {
     "name": "stdout",
     "output_type": "stream",
     "text": [
      "8 8 8 8 8 8 8 8 \n",
      "8 7 7 7 7 7 7 8 \n",
      "8 7 6 6 6 6 7 8 \n",
      "8 7 6 5 5 6 7 8 \n",
      "8 7 6 5 5 6 7 8 \n",
      "8 7 6 6 6 6 7 8 \n",
      "8 7 7 7 7 7 7 8 \n",
      "8 8 8 8 8 8 8 8 \n"
     ]
    }
   ],
   "source": [
    "coolest_pattern_ever(8)"
   ]
  },
  {
   "cell_type": "code",
   "execution_count": 28,
   "id": "4ffa3d41",
   "metadata": {},
   "outputs": [
    {
     "data": {
      "text/plain": [
       "'\\nQuestion 2 - \\n\\nMarvel v/s DC - There are a total of 50 people in a class numbered from 1 to 50.\\nYou will get two lists as input. \\n    - One would contain list of all numbers who are Marvel fans\\n    - Other would contain list of all numbers who are DC fans\\n    \\nOutput -> \\n1. List of all people who are not a fan of either Marvel or DC\\n2. List of all the people who are a fan of both.\\n'"
      ]
     },
     "execution_count": 28,
     "metadata": {},
     "output_type": "execute_result"
    }
   ],
   "source": [
    "'''\n",
    "Question 2 - \n",
    "\n",
    "Marvel v/s DC - There are a total of 50 people in a class numbered from 1 to 50.\n",
    "You will get two lists as input. \n",
    "    - One would contain list of all numbers who are Marvel fans\n",
    "    - Other would contain list of all numbers who are DC fans\n",
    "    \n",
    "Output -> \n",
    "1. List of all people who are not a fan of either Marvel or DC\n",
    "2. List of all the people who are a fan of both.\n",
    "'''"
   ]
  },
  {
   "cell_type": "code",
   "execution_count": 29,
   "id": "3aa3b3dd",
   "metadata": {},
   "outputs": [],
   "source": [
    "marvel_fans = [1,4,5,10,15,16,18,19,20,25,31,32,33,36,39,41,49,50]\n",
    "dc_fans = [4,5,7,12,14,22,27,35,45]"
   ]
  },
  {
   "cell_type": "code",
   "execution_count": 30,
   "id": "6e57637a",
   "metadata": {},
   "outputs": [],
   "source": [
    "def marvel_vs_dc(marvel_fans, dc_fans):\n",
    "    fans_of_both = set(marvel_fans) & set(dc_fans)\n",
    "    \n",
    "    entire_class = set(range(1,51))\n",
    "    fans_of_neither = entire_class - (set(marvel_fans) | set(dc_fans))\n",
    "    \n",
    "    return fans_of_neither, fans_of_both"
   ]
  },
  {
   "cell_type": "code",
   "execution_count": 31,
   "id": "4d26b401",
   "metadata": {},
   "outputs": [
    {
     "data": {
      "text/plain": [
       "({2,\n",
       "  3,\n",
       "  6,\n",
       "  8,\n",
       "  9,\n",
       "  11,\n",
       "  13,\n",
       "  17,\n",
       "  21,\n",
       "  23,\n",
       "  24,\n",
       "  26,\n",
       "  28,\n",
       "  29,\n",
       "  30,\n",
       "  34,\n",
       "  37,\n",
       "  38,\n",
       "  40,\n",
       "  42,\n",
       "  43,\n",
       "  44,\n",
       "  46,\n",
       "  47,\n",
       "  48},\n",
       " {4, 5})"
      ]
     },
     "execution_count": 31,
     "metadata": {},
     "output_type": "execute_result"
    }
   ],
   "source": [
    "marvel_vs_dc(marvel_fans, dc_fans)"
   ]
  },
  {
   "cell_type": "code",
   "execution_count": 32,
   "id": "6fef8864",
   "metadata": {},
   "outputs": [
    {
     "data": {
      "text/plain": [
       "'\\nQuestion 3 - \\n\\nUltimate Palindrome - Given a number as input return True if ultimate palindrome else False.\\n    - Palindrome ( 767, 7657567 )\\n    - Prime Number\\n'"
      ]
     },
     "execution_count": 32,
     "metadata": {},
     "output_type": "execute_result"
    }
   ],
   "source": [
    "'''\n",
    "Question 3 - \n",
    "\n",
    "Ultimate Palindrome - Given a number as input return True if ultimate palindrome else False.\n",
    "    - Palindrome ( 767, 7657567 )\n",
    "    - Prime Number\n",
    "'''"
   ]
  },
  {
   "cell_type": "code",
   "execution_count": 33,
   "id": "841dc13e",
   "metadata": {},
   "outputs": [],
   "source": [
    "number = 78987"
   ]
  },
  {
   "cell_type": "code",
   "execution_count": 34,
   "id": "0b1713a5",
   "metadata": {},
   "outputs": [],
   "source": [
    "string_number = str(number)"
   ]
  },
  {
   "cell_type": "code",
   "execution_count": 35,
   "id": "a3307e41",
   "metadata": {},
   "outputs": [
    {
     "data": {
      "text/plain": [
       "'78987'"
      ]
     },
     "execution_count": 35,
     "metadata": {},
     "output_type": "execute_result"
    }
   ],
   "source": [
    "string_number"
   ]
  },
  {
   "cell_type": "code",
   "execution_count": 36,
   "id": "05849c8c",
   "metadata": {},
   "outputs": [
    {
     "data": {
      "text/plain": [
       "True"
      ]
     },
     "execution_count": 36,
     "metadata": {},
     "output_type": "execute_result"
    }
   ],
   "source": [
    "string_number == string_number[::-1]"
   ]
  },
  {
   "cell_type": "code",
   "execution_count": 37,
   "id": "68fca6c7",
   "metadata": {},
   "outputs": [],
   "source": [
    "def ultimate_palindrome(number):\n",
    "    s = str(number)\n",
    "    \n",
    "    # check for palindrome\n",
    "    is_palindrome = s == s[::-1]\n",
    "    \n",
    "    # check for prime\n",
    "    is_prime = True\n",
    "    \n",
    "    for i in range(2, number // 2 + 1):\n",
    "        if number % i == 0:\n",
    "            is_prime = False\n",
    "            break\n",
    "            \n",
    "    return is_palindrome and is_prime"
   ]
  },
  {
   "cell_type": "code",
   "execution_count": 39,
   "id": "f927fb0d",
   "metadata": {},
   "outputs": [
    {
     "data": {
      "text/plain": [
       "False"
      ]
     },
     "execution_count": 39,
     "metadata": {},
     "output_type": "execute_result"
    }
   ],
   "source": [
    "ultimate_palindrome(7278)"
   ]
  },
  {
   "cell_type": "code",
   "execution_count": 40,
   "id": "6dd6338d",
   "metadata": {},
   "outputs": [],
   "source": [
    "# HOMEWORK - Reverse a number without using strings"
   ]
  },
  {
   "cell_type": "code",
   "execution_count": null,
   "id": "0004f60d",
   "metadata": {},
   "outputs": [],
   "source": []
  }
 ],
 "metadata": {
  "kernelspec": {
   "display_name": "Python 3 (ipykernel)",
   "language": "python",
   "name": "python3"
  },
  "language_info": {
   "codemirror_mode": {
    "name": "ipython",
    "version": 3
   },
   "file_extension": ".py",
   "mimetype": "text/x-python",
   "name": "python",
   "nbconvert_exporter": "python",
   "pygments_lexer": "ipython3",
   "version": "3.9.5"
  }
 },
 "nbformat": 4,
 "nbformat_minor": 5
}
