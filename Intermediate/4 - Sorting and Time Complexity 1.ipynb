{
 "cells": [
  {
   "cell_type": "code",
   "execution_count": 1,
   "id": "1ec8a4ae",
   "metadata": {},
   "outputs": [
    {
     "data": {
      "text/plain": [
       "'\\nCost Function = Number of operations if the function is executed.\\n\\nCost(foo()) = 3 (constant)\\n'"
      ]
     },
     "execution_count": 1,
     "metadata": {},
     "output_type": "execute_result"
    }
   ],
   "source": [
    "# Example 1\n",
    "\n",
    "def foo():\n",
    "    x = 1 # 1 operation\n",
    "    y = 2 # 2 operation\n",
    "    z = 3 # 3 operation\n",
    "    \n",
    "'''\n",
    "Cost Function = Number of operations if the function is executed.\n",
    "\n",
    "Cost(foo()) = 3 (constant)\n",
    "'''"
   ]
  },
  {
   "cell_type": "code",
   "execution_count": 2,
   "id": "b6a64bc9",
   "metadata": {},
   "outputs": [
    {
     "data": {
      "text/plain": [
       "'\\nfoo(5) -> 3\\nfoo(5000) -> 3\\nfo0(5000000) -> 3\\n\\nCost(foo()) = 3 (constant)\\n'"
      ]
     },
     "execution_count": 2,
     "metadata": {},
     "output_type": "execute_result"
    }
   ],
   "source": [
    "# Example 2\n",
    "\n",
    "def foo(n):\n",
    "    x = 1\n",
    "    y = 2\n",
    "    z = 3\n",
    "    \n",
    "'''\n",
    "foo(5) -> 3\n",
    "foo(5000) -> 3\n",
    "fo0(5000000) -> 3\n",
    "\n",
    "Cost(foo()) = 3 (constant)\n",
    "'''"
   ]
  },
  {
   "cell_type": "code",
   "execution_count": 3,
   "id": "1b268e82",
   "metadata": {},
   "outputs": [
    {
     "data": {
      "text/plain": [
       "'\\nCost(foo()) = n (linear)\\n'"
      ]
     },
     "execution_count": 3,
     "metadata": {},
     "output_type": "execute_result"
    }
   ],
   "source": [
    "# Example 3\n",
    "\n",
    "def foo(n):\n",
    "    for i in range(n):\n",
    "        print(i) # n operations\n",
    "        \n",
    "'''\n",
    "Cost(foo()) = n (linear)\n",
    "'''"
   ]
  },
  {
   "cell_type": "code",
   "execution_count": 4,
   "id": "bad74db5",
   "metadata": {},
   "outputs": [
    {
     "data": {
      "text/plain": [
       "'\\nCost(foo()) = n + 2\\n'"
      ]
     },
     "execution_count": 4,
     "metadata": {},
     "output_type": "execute_result"
    }
   ],
   "source": [
    "# Example 4\n",
    "\n",
    "def foo(n):\n",
    "    x = 2\n",
    "    y = 3\n",
    "    \n",
    "    for i in range(n):\n",
    "        print(i)\n",
    "        \n",
    "'''\n",
    "Cost(foo()) = n + 2\n",
    "'''"
   ]
  },
  {
   "cell_type": "code",
   "execution_count": 5,
   "id": "b998b49b",
   "metadata": {},
   "outputs": [
    {
     "data": {
      "text/plain": [
       "'\\nCost(foo()) = n^2 (exponential)\\n'"
      ]
     },
     "execution_count": 5,
     "metadata": {},
     "output_type": "execute_result"
    }
   ],
   "source": [
    "# Example 5\n",
    "\n",
    "def foo(n):\n",
    "    for i in range(n):\n",
    "        for j in range(n):\n",
    "            print(i*j) # n*n operations\n",
    "            \n",
    "'''\n",
    "Cost(foo()) = n^2 (exponential)\n",
    "'''"
   ]
  },
  {
   "cell_type": "code",
   "execution_count": 6,
   "id": "5a7a548b",
   "metadata": {},
   "outputs": [
    {
     "data": {
      "text/plain": [
       "'\\nCost(foo()) = n^2 + n + 1\\n'"
      ]
     },
     "execution_count": 6,
     "metadata": {},
     "output_type": "execute_result"
    }
   ],
   "source": [
    "# Example 6\n",
    "\n",
    "def foo(n):\n",
    "    for i in range(n):\n",
    "        for j in range(n):\n",
    "            print(i*j) # n*n operations\n",
    "            \n",
    "    for k in range(n):\n",
    "        print(k) # n operations\n",
    "        \n",
    "    print(\"WOW!!\") # 1 operation\n",
    "    \n",
    "'''\n",
    "Cost(foo()) = n^2 + n + 1\n",
    "'''"
   ]
  },
  {
   "cell_type": "code",
   "execution_count": 7,
   "id": "bb625129",
   "metadata": {},
   "outputs": [],
   "source": [
    "def bubble_sort(a):\n",
    "    for i in range(len(a)):\n",
    "        for j in range(len(a) - i - 1):\n",
    "            if a[j] > a[j+1]:\n",
    "                a[j], a[j+1] = a[j+1], a[j]\n",
    "                \n",
    "    return a"
   ]
  },
  {
   "cell_type": "code",
   "execution_count": 8,
   "id": "91c1a000",
   "metadata": {},
   "outputs": [
    {
     "data": {
      "text/plain": [
       "[1, 2, 3, 4, 5, 7]"
      ]
     },
     "execution_count": 8,
     "metadata": {},
     "output_type": "execute_result"
    }
   ],
   "source": [
    "bubble_sort([5, 1, 2, 4, 7, 3])"
   ]
  },
  {
   "cell_type": "code",
   "execution_count": 9,
   "id": "a26c7465",
   "metadata": {},
   "outputs": [
    {
     "data": {
      "text/plain": [
       "'\\nCost(bubble_sort()) = (1/2)*(n^2 + n)\\n'"
      ]
     },
     "execution_count": 9,
     "metadata": {},
     "output_type": "execute_result"
    }
   ],
   "source": [
    "'''\n",
    "Cost(bubble_sort()) = (1/2)*(n^2 + n)\n",
    "'''"
   ]
  },
  {
   "cell_type": "code",
   "execution_count": 13,
   "id": "cf41cec7",
   "metadata": {},
   "outputs": [],
   "source": [
    "def bubble_sort_visual(a):\n",
    "    print(a)\n",
    "    \n",
    "    for i in range(len(a)):\n",
    "        for j in range(len(a) - i - 1):\n",
    "            if a[j] > a[j+1]:\n",
    "                a[j], a[j+1] = a[j+1], a[j]\n",
    "                \n",
    "            print(f\"\\t{a}\")\n",
    "        \n",
    "        print(\"-\"*25)\n",
    "        print(a)\n",
    "                \n",
    "    return a"
   ]
  },
  {
   "cell_type": "code",
   "execution_count": 14,
   "id": "d7903d41",
   "metadata": {},
   "outputs": [
    {
     "name": "stdout",
     "output_type": "stream",
     "text": [
      "[5, 1, 2, 4, 7, 3]\n",
      "\t[1, 5, 2, 4, 7, 3]\n",
      "\t[1, 2, 5, 4, 7, 3]\n",
      "\t[1, 2, 4, 5, 7, 3]\n",
      "\t[1, 2, 4, 5, 7, 3]\n",
      "\t[1, 2, 4, 5, 3, 7]\n",
      "-------------------------\n",
      "[1, 2, 4, 5, 3, 7]\n",
      "\t[1, 2, 4, 5, 3, 7]\n",
      "\t[1, 2, 4, 5, 3, 7]\n",
      "\t[1, 2, 4, 5, 3, 7]\n",
      "\t[1, 2, 4, 3, 5, 7]\n",
      "-------------------------\n",
      "[1, 2, 4, 3, 5, 7]\n",
      "\t[1, 2, 4, 3, 5, 7]\n",
      "\t[1, 2, 4, 3, 5, 7]\n",
      "\t[1, 2, 3, 4, 5, 7]\n",
      "-------------------------\n",
      "[1, 2, 3, 4, 5, 7]\n",
      "\t[1, 2, 3, 4, 5, 7]\n",
      "\t[1, 2, 3, 4, 5, 7]\n",
      "-------------------------\n",
      "[1, 2, 3, 4, 5, 7]\n",
      "\t[1, 2, 3, 4, 5, 7]\n",
      "-------------------------\n",
      "[1, 2, 3, 4, 5, 7]\n",
      "-------------------------\n",
      "[1, 2, 3, 4, 5, 7]\n"
     ]
    },
    {
     "data": {
      "text/plain": [
       "[1, 2, 3, 4, 5, 7]"
      ]
     },
     "execution_count": 14,
     "metadata": {},
     "output_type": "execute_result"
    }
   ],
   "source": [
    "bubble_sort_visual([5, 1, 2, 4, 7, 3])"
   ]
  },
  {
   "cell_type": "code",
   "execution_count": 15,
   "id": "39b67c4d",
   "metadata": {},
   "outputs": [
    {
     "name": "stdout",
     "output_type": "stream",
     "text": [
      "[1, 2, 3, 4, 5]\n",
      "\t[1, 2, 3, 4, 5]\n",
      "\t[1, 2, 3, 4, 5]\n",
      "\t[1, 2, 3, 4, 5]\n",
      "\t[1, 2, 3, 4, 5]\n",
      "-------------------------\n",
      "[1, 2, 3, 4, 5]\n",
      "\t[1, 2, 3, 4, 5]\n",
      "\t[1, 2, 3, 4, 5]\n",
      "\t[1, 2, 3, 4, 5]\n",
      "-------------------------\n",
      "[1, 2, 3, 4, 5]\n",
      "\t[1, 2, 3, 4, 5]\n",
      "\t[1, 2, 3, 4, 5]\n",
      "-------------------------\n",
      "[1, 2, 3, 4, 5]\n",
      "\t[1, 2, 3, 4, 5]\n",
      "-------------------------\n",
      "[1, 2, 3, 4, 5]\n",
      "-------------------------\n",
      "[1, 2, 3, 4, 5]\n"
     ]
    },
    {
     "data": {
      "text/plain": [
       "[1, 2, 3, 4, 5]"
      ]
     },
     "execution_count": 15,
     "metadata": {},
     "output_type": "execute_result"
    }
   ],
   "source": [
    "bubble_sort_visual([1,2,3,4,5])"
   ]
  },
  {
   "cell_type": "code",
   "execution_count": null,
   "id": "c569f376",
   "metadata": {},
   "outputs": [],
   "source": [
    "'''\n",
    "HOMEWORK - \n",
    "Figure out a way to stop bubble sort in \"n operations\"\n",
    "in case of the input being an already sorted list.\n",
    "'''"
   ]
  }
 ],
 "metadata": {
  "kernelspec": {
   "display_name": "Python 3 (ipykernel)",
   "language": "python",
   "name": "python3"
  },
  "language_info": {
   "codemirror_mode": {
    "name": "ipython",
    "version": 3
   },
   "file_extension": ".py",
   "mimetype": "text/x-python",
   "name": "python",
   "nbconvert_exporter": "python",
   "pygments_lexer": "ipython3",
   "version": "3.9.5"
  }
 },
 "nbformat": 4,
 "nbformat_minor": 5
}
