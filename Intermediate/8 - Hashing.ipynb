{
 "cells": [
  {
   "cell_type": "code",
   "execution_count": 2,
   "id": "8595396c",
   "metadata": {},
   "outputs": [
    {
     "data": {
      "text/plain": [
       "0"
      ]
     },
     "execution_count": 2,
     "metadata": {},
     "output_type": "execute_result"
    }
   ],
   "source": [
    "# n = 10\n",
    "\n",
    "100 % 10"
   ]
  },
  {
   "cell_type": "code",
   "execution_count": 3,
   "id": "8eb594d4",
   "metadata": {},
   "outputs": [
    {
     "data": {
      "text/plain": [
       "0"
      ]
     },
     "execution_count": 3,
     "metadata": {},
     "output_type": "execute_result"
    }
   ],
   "source": [
    "120 % 10"
   ]
  },
  {
   "cell_type": "code",
   "execution_count": 4,
   "id": "c9e33b54",
   "metadata": {},
   "outputs": [
    {
     "data": {
      "text/plain": [
       "5"
      ]
     },
     "execution_count": 4,
     "metadata": {},
     "output_type": "execute_result"
    }
   ],
   "source": [
    "135 % 10"
   ]
  },
  {
   "cell_type": "code",
   "execution_count": 5,
   "id": "a4c75e02",
   "metadata": {},
   "outputs": [
    {
     "data": {
      "text/plain": [
       "9"
      ]
     },
     "execution_count": 5,
     "metadata": {},
     "output_type": "execute_result"
    }
   ],
   "source": [
    "19999999 % 10"
   ]
  },
  {
   "cell_type": "code",
   "execution_count": 6,
   "id": "039418f1",
   "metadata": {},
   "outputs": [],
   "source": [
    "# Approach 3"
   ]
  },
  {
   "cell_type": "code",
   "execution_count": 7,
   "id": "4119c808",
   "metadata": {},
   "outputs": [],
   "source": [
    "original_list = [1, 10, 50, 67, 89, 77, 145, 346, 32, 23, 567, 899, 999, 444, 678]"
   ]
  },
  {
   "cell_type": "code",
   "execution_count": 8,
   "id": "68ceb42e",
   "metadata": {},
   "outputs": [],
   "source": [
    "queries = [30, 77, 89, 123, 345, 1000, 999, 50, 33, 23]"
   ]
  },
  {
   "cell_type": "code",
   "execution_count": 9,
   "id": "ad6a2604",
   "metadata": {},
   "outputs": [],
   "source": [
    "flag = [False]*1001"
   ]
  },
  {
   "cell_type": "code",
   "execution_count": 10,
   "id": "f431fbfa",
   "metadata": {},
   "outputs": [],
   "source": [
    "for i in original_list:\n",
    "    flag[i] = True"
   ]
  },
  {
   "cell_type": "code",
   "execution_count": 12,
   "id": "e39f94d3",
   "metadata": {},
   "outputs": [],
   "source": [
    "# flag"
   ]
  },
  {
   "cell_type": "code",
   "execution_count": 13,
   "id": "a2c6b1d3",
   "metadata": {},
   "outputs": [],
   "source": [
    "result = []\n",
    "\n",
    "for q in queries:\n",
    "    if flag[q]:\n",
    "        result.append(True)\n",
    "    else:\n",
    "        result.append(False)"
   ]
  },
  {
   "cell_type": "code",
   "execution_count": 14,
   "id": "feeaecac",
   "metadata": {},
   "outputs": [
    {
     "data": {
      "text/plain": [
       "[False, True, True, False, False, False, True, True, False, True]"
      ]
     },
     "execution_count": 14,
     "metadata": {},
     "output_type": "execute_result"
    }
   ],
   "source": [
    "result"
   ]
  },
  {
   "cell_type": "code",
   "execution_count": null,
   "id": "62100f5d",
   "metadata": {},
   "outputs": [],
   "source": []
  }
 ],
 "metadata": {
  "kernelspec": {
   "display_name": "Python 3 (ipykernel)",
   "language": "python",
   "name": "python3"
  },
  "language_info": {
   "codemirror_mode": {
    "name": "ipython",
    "version": 3
   },
   "file_extension": ".py",
   "mimetype": "text/x-python",
   "name": "python",
   "nbconvert_exporter": "python",
   "pygments_lexer": "ipython3",
   "version": "3.9.5"
  }
 },
 "nbformat": 4,
 "nbformat_minor": 5
}
