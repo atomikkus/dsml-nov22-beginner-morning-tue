{
 "cells": [
  {
   "cell_type": "code",
   "execution_count": 1,
   "id": "5a7d2b2c",
   "metadata": {},
   "outputs": [
    {
     "data": {
      "text/plain": [
       "'\\nQuestion 1 - \\n\\nGiven a list of elements and a target element;\\n    - return the index of the target if the target is present in the list\\n    - else return -1\\n    \\nEXAMPLE - \\nInput - \\nl = [10, 20, 30, 40, 50]\\ntarget = 40\\n\\nOutput - 3\\n'"
      ]
     },
     "execution_count": 1,
     "metadata": {},
     "output_type": "execute_result"
    }
   ],
   "source": [
    "'''\n",
    "Question 1 - \n",
    "\n",
    "Given a list of elements and a target element;\n",
    "    - return the index of the target if the target is present in the list\n",
    "    - else return -1\n",
    "    \n",
    "EXAMPLE - \n",
    "Input - \n",
    "l = [10, 20, 30, 40, 50]\n",
    "target = 40\n",
    "\n",
    "Output - 3\n",
    "'''"
   ]
  },
  {
   "cell_type": "code",
   "execution_count": 17,
   "id": "c1a3a157",
   "metadata": {},
   "outputs": [],
   "source": [
    "# Approach 1\n",
    "def linear_search(a, target):\n",
    "    for i in range(len(a)):\n",
    "        if target == a[i]:\n",
    "            return i\n",
    "        \n",
    "    return -1"
   ]
  },
  {
   "cell_type": "code",
   "execution_count": 3,
   "id": "e6a66217",
   "metadata": {},
   "outputs": [],
   "source": [
    "l = [10, 20, 30, 40, 50]\n",
    "target = 40"
   ]
  },
  {
   "cell_type": "code",
   "execution_count": 6,
   "id": "4c1ab3f2",
   "metadata": {},
   "outputs": [
    {
     "data": {
      "text/plain": [
       "-1"
      ]
     },
     "execution_count": 6,
     "metadata": {},
     "output_type": "execute_result"
    }
   ],
   "source": [
    "linear_search(l, 100)"
   ]
  },
  {
   "cell_type": "code",
   "execution_count": 7,
   "id": "10b538de",
   "metadata": {},
   "outputs": [],
   "source": [
    "# enumeration"
   ]
  },
  {
   "cell_type": "code",
   "execution_count": 8,
   "id": "924b9954",
   "metadata": {},
   "outputs": [],
   "source": [
    "enumerated_l = enumerate(l)"
   ]
  },
  {
   "cell_type": "code",
   "execution_count": 9,
   "id": "d7d8ea03",
   "metadata": {},
   "outputs": [
    {
     "data": {
      "text/plain": [
       "<enumerate at 0x7fddb02e9a40>"
      ]
     },
     "execution_count": 9,
     "metadata": {},
     "output_type": "execute_result"
    }
   ],
   "source": [
    "enumerated_l"
   ]
  },
  {
   "cell_type": "code",
   "execution_count": 10,
   "id": "11fc0057",
   "metadata": {},
   "outputs": [
    {
     "data": {
      "text/plain": [
       "[(0, 10), (1, 20), (2, 30), (3, 40), (4, 50)]"
      ]
     },
     "execution_count": 10,
     "metadata": {},
     "output_type": "execute_result"
    }
   ],
   "source": [
    "list(enumerated_l)"
   ]
  },
  {
   "cell_type": "code",
   "execution_count": 18,
   "id": "f5757476",
   "metadata": {},
   "outputs": [],
   "source": [
    "# Approach 2\n",
    "def linear_search_enumerated(a, target):\n",
    "    for index, value in enumerate(a):\n",
    "        if value == target:\n",
    "            return index\n",
    "        \n",
    "    return -1"
   ]
  },
  {
   "cell_type": "code",
   "execution_count": 16,
   "id": "da65ffaf",
   "metadata": {},
   "outputs": [
    {
     "data": {
      "text/plain": [
       "3"
      ]
     },
     "execution_count": 16,
     "metadata": {},
     "output_type": "execute_result"
    }
   ],
   "source": [
    "linear_search_enumerated(l, 40)"
   ]
  },
  {
   "cell_type": "code",
   "execution_count": 21,
   "id": "9e974ccb",
   "metadata": {},
   "outputs": [
    {
     "data": {
      "text/plain": [
       "'\\nSuppose that the list is of n elements (length).\\nTarget is present at the last position or not present.\\nHow many times will the loop run in this case?\\n\\n- IN THIS WORST CASE SCENARIO - n operations\\n'"
      ]
     },
     "execution_count": 21,
     "metadata": {},
     "output_type": "execute_result"
    }
   ],
   "source": [
    "'''\n",
    "Suppose that the list is of n elements (length).\n",
    "Target is present at the last position or not present.\n",
    "How many times will the loop run in this case?\n",
    "\n",
    "- IN THIS WORST CASE SCENARIO - n operations\n",
    "'''"
   ]
  },
  {
   "cell_type": "code",
   "execution_count": 22,
   "id": "4b3475fd",
   "metadata": {},
   "outputs": [],
   "source": [
    "def binary_search(a, target):\n",
    "    start, end = 0, len(a) - 1\n",
    "    \n",
    "    while start <= end:\n",
    "        mid = ( start + end ) // 2\n",
    "        \n",
    "        if target == a[mid]:\n",
    "            return mid\n",
    "        elif target > a[mid]:\n",
    "            start = mid + 1\n",
    "        else:\n",
    "            end = mid - 1\n",
    "            \n",
    "    return -1"
   ]
  },
  {
   "cell_type": "code",
   "execution_count": 23,
   "id": "4f07c383",
   "metadata": {},
   "outputs": [],
   "source": [
    "a = [10, 20, 30, 40, 50, 60, 70, 80, 90, 100]"
   ]
  },
  {
   "cell_type": "code",
   "execution_count": 27,
   "id": "46ed4386",
   "metadata": {},
   "outputs": [
    {
     "data": {
      "text/plain": [
       "0"
      ]
     },
     "execution_count": 27,
     "metadata": {},
     "output_type": "execute_result"
    }
   ],
   "source": [
    "binary_search(a, 10)"
   ]
  },
  {
   "cell_type": "code",
   "execution_count": 29,
   "id": "e95298d0",
   "metadata": {},
   "outputs": [],
   "source": [
    "def linear_search_count(a, target):\n",
    "    count = 0\n",
    "    \n",
    "    for index, value in enumerate(a):\n",
    "        count += 1\n",
    "        \n",
    "        if value == target:\n",
    "            print(f\"I ran {count} times!\")\n",
    "            return index\n",
    "        \n",
    "    print(f\"I ran {count} times!\")\n",
    "    return -1"
   ]
  },
  {
   "cell_type": "code",
   "execution_count": 30,
   "id": "c9da79be",
   "metadata": {},
   "outputs": [],
   "source": [
    "def binary_search_count(a, target):\n",
    "    start, end = 0, len(a) - 1\n",
    "    count = 0\n",
    "    \n",
    "    while start <= end:\n",
    "        mid = ( start + end ) // 2\n",
    "        \n",
    "        count += 1\n",
    "        \n",
    "        if target == a[mid]:\n",
    "            print(f\"I ran {count} times!\")\n",
    "            return mid\n",
    "        elif target > a[mid]:\n",
    "            start = mid + 1\n",
    "        else:\n",
    "            end = mid - 1\n",
    "    \n",
    "    print(f\"I ran {count} times!\")\n",
    "    return -1"
   ]
  },
  {
   "cell_type": "code",
   "execution_count": 31,
   "id": "5c0f1032",
   "metadata": {},
   "outputs": [],
   "source": [
    "a = [10, 20, 30, 40, 50, 60, 70, 80, 90, 100]"
   ]
  },
  {
   "cell_type": "code",
   "execution_count": 32,
   "id": "19c970ee",
   "metadata": {},
   "outputs": [
    {
     "name": "stdout",
     "output_type": "stream",
     "text": [
      "I ran 8 times!\n"
     ]
    },
    {
     "data": {
      "text/plain": [
       "7"
      ]
     },
     "execution_count": 32,
     "metadata": {},
     "output_type": "execute_result"
    }
   ],
   "source": [
    "linear_search_count(a, 80)"
   ]
  },
  {
   "cell_type": "code",
   "execution_count": 33,
   "id": "a4960633",
   "metadata": {},
   "outputs": [
    {
     "name": "stdout",
     "output_type": "stream",
     "text": [
      "I ran 2 times!\n"
     ]
    },
    {
     "data": {
      "text/plain": [
       "7"
      ]
     },
     "execution_count": 33,
     "metadata": {},
     "output_type": "execute_result"
    }
   ],
   "source": [
    "binary_search_count(a, 80)"
   ]
  },
  {
   "cell_type": "code",
   "execution_count": 34,
   "id": "c11d4002",
   "metadata": {},
   "outputs": [],
   "source": [
    "a = list(range(1, 1001))"
   ]
  },
  {
   "cell_type": "code",
   "execution_count": 36,
   "id": "2f1e251f",
   "metadata": {},
   "outputs": [
    {
     "name": "stdout",
     "output_type": "stream",
     "text": [
      "I ran 767 times!\n"
     ]
    },
    {
     "data": {
      "text/plain": [
       "766"
      ]
     },
     "execution_count": 36,
     "metadata": {},
     "output_type": "execute_result"
    }
   ],
   "source": [
    "linear_search_count(a, 767)"
   ]
  },
  {
   "cell_type": "code",
   "execution_count": 37,
   "id": "2b4d3760",
   "metadata": {},
   "outputs": [
    {
     "name": "stdout",
     "output_type": "stream",
     "text": [
      "I ran 9 times!\n"
     ]
    },
    {
     "data": {
      "text/plain": [
       "766"
      ]
     },
     "execution_count": 37,
     "metadata": {},
     "output_type": "execute_result"
    }
   ],
   "source": [
    "binary_search_count(a, 767)"
   ]
  },
  {
   "cell_type": "code",
   "execution_count": null,
   "id": "37ae7068",
   "metadata": {},
   "outputs": [],
   "source": []
  }
 ],
 "metadata": {
  "kernelspec": {
   "display_name": "Python 3 (ipykernel)",
   "language": "python",
   "name": "python3"
  },
  "language_info": {
   "codemirror_mode": {
    "name": "ipython",
    "version": 3
   },
   "file_extension": ".py",
   "mimetype": "text/x-python",
   "name": "python",
   "nbconvert_exporter": "python",
   "pygments_lexer": "ipython3",
   "version": "3.9.5"
  }
 },
 "nbformat": 4,
 "nbformat_minor": 5
}
