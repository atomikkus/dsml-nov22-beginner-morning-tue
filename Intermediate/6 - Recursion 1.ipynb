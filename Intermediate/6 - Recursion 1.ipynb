{
 "cells": [
  {
   "cell_type": "code",
   "execution_count": 1,
   "id": "d08ed31b",
   "metadata": {},
   "outputs": [],
   "source": [
    "def factorial(n):\n",
    "    # Base condition\n",
    "    if n == 0 or n == 1:\n",
    "        return 1\n",
    "    \n",
    "    # Recursive Call\n",
    "    result = n * factorial(n - 1)\n",
    "    \n",
    "    return result"
   ]
  },
  {
   "cell_type": "code",
   "execution_count": 2,
   "id": "5510397e",
   "metadata": {},
   "outputs": [],
   "source": [
    "def random_sum(a, b):\n",
    "    return a + b"
   ]
  },
  {
   "cell_type": "code",
   "execution_count": 3,
   "id": "fcfa8bef",
   "metadata": {},
   "outputs": [],
   "source": [
    "result = random_sum(4, 5)"
   ]
  },
  {
   "cell_type": "code",
   "execution_count": 4,
   "id": "8ab94c34",
   "metadata": {},
   "outputs": [
    {
     "data": {
      "text/plain": [
       "9"
      ]
     },
     "execution_count": 4,
     "metadata": {},
     "output_type": "execute_result"
    }
   ],
   "source": [
    "result"
   ]
  },
  {
   "cell_type": "code",
   "execution_count": 5,
   "id": "350376bd",
   "metadata": {},
   "outputs": [],
   "source": [
    "def factorial(n):\n",
    "    if n < 0 or type(n) != int:\n",
    "        return \"NOT DEFINED\"\n",
    "    \n",
    "    # Base condition\n",
    "    if n == 0 or n == 1:\n",
    "        return 1\n",
    "    \n",
    "    # Recursive Call\n",
    "    result = n * factorial(n - 1)\n",
    "    \n",
    "    return result"
   ]
  },
  {
   "cell_type": "code",
   "execution_count": 8,
   "id": "d085210b",
   "metadata": {},
   "outputs": [
    {
     "data": {
      "text/plain": [
       "24"
      ]
     },
     "execution_count": 8,
     "metadata": {},
     "output_type": "execute_result"
    }
   ],
   "source": [
    "factorial(4)"
   ]
  },
  {
   "cell_type": "code",
   "execution_count": 9,
   "id": "8634c5b5",
   "metadata": {},
   "outputs": [],
   "source": [
    "for i in range(10):\n",
    "    if i == 0:\n",
    "        break"
   ]
  },
  {
   "cell_type": "code",
   "execution_count": 5,
   "id": "2d21d1ac",
   "metadata": {},
   "outputs": [],
   "source": [
    "def fibonacci_number(n):\n",
    "    \n",
    "    if n == 0:\n",
    "        return 0\n",
    "    elif n == 1 or n == 2:\n",
    "        return 1\n",
    "    else:\n",
    "        return fibonacci_number(n - 1) + fibonacci_number(n - 2)"
   ]
  },
  {
   "cell_type": "code",
   "execution_count": 7,
   "id": "bf1655b5",
   "metadata": {},
   "outputs": [
    {
     "data": {
      "text/plain": [
       "3"
      ]
     },
     "execution_count": 7,
     "metadata": {},
     "output_type": "execute_result"
    }
   ],
   "source": [
    "fibonacci_number(4)"
   ]
  },
  {
   "cell_type": "code",
   "execution_count": 3,
   "id": "8fd22d70",
   "metadata": {},
   "outputs": [
    {
     "data": {
      "text/plain": [
       "[1, 3, 5, 6, 7, 2, 4, 8]"
      ]
     },
     "execution_count": 3,
     "metadata": {},
     "output_type": "execute_result"
    }
   ],
   "source": [
    "A=[1,3,5,6,7]\n",
    "B=[2,4,8]\n",
    "\n"
   ]
  },
  {
   "cell_type": "code",
   "execution_count": null,
   "id": "409c286d",
   "metadata": {},
   "outputs": [],
   "source": [
    "def sortifTwo(A,B):\n",
    "    S=A+B\n",
    "    if S[0]<S[1]:\n",
    "        return []\n",
    "    else:\n",
    "        return [S[1],S[0]]+sortifTwo()\n",
    "\n",
    "\n",
    "\n",
    "        "
   ]
  },
  {
   "cell_type": "code",
   "execution_count": 3,
   "id": "4c9cab0e",
   "metadata": {},
   "outputs": [],
   "source": [
    "def count_freq(x, y):\n",
    "  if(y!=1):\n",
    "    if(x!=1):\n",
    "      print(\"*\")\n",
    "      count_freq(x/2,y)\n",
    "    else:\n",
    "      print(\"#\")\n",
    "      y=y-1\n",
    "      count_freq(x,y)\n",
    "def fun(i,j):\n",
    "      if(i==0):\n",
    "         return j\n",
    "      else:\n",
    "         return fun(i-1,j+1)"
   ]
  },
  {
   "cell_type": "code",
   "execution_count": 4,
   "id": "7ad915f3",
   "metadata": {},
   "outputs": [
    {
     "data": {
      "text/plain": [
       "12"
      ]
     },
     "execution_count": 4,
     "metadata": {},
     "output_type": "execute_result"
    }
   ],
   "source": [
    "fun(4,8)"
   ]
  },
  {
   "cell_type": "code",
   "execution_count": 5,
   "id": "757f6431",
   "metadata": {},
   "outputs": [
    {
     "name": "stdout",
     "output_type": "stream",
     "text": [
      "-7\n"
     ]
    }
   ],
   "source": [
    "def fun(i,j):\n",
    "  if(i==0):\n",
    "    return j\n",
    "  else:\n",
    "    return fun(j,i-5)\n",
    "\n",
    "print(fun(15,8))"
   ]
  },
  {
   "cell_type": "code",
   "execution_count": 5,
   "id": "12888eb7",
   "metadata": {},
   "outputs": [],
   "source": [
    "players = ['Jadeja','Rahul','Rohit']"
   ]
  },
  {
   "cell_type": "code",
   "execution_count": 2,
   "id": "cc24ce2c",
   "metadata": {},
   "outputs": [],
   "source": [
    "players[-1:]=['Dhoni', 'V']"
   ]
  },
  {
   "cell_type": "code",
   "execution_count": 6,
   "id": "7aa27544",
   "metadata": {},
   "outputs": [
    {
     "data": {
      "text/plain": [
       "['Jadeja', 'Rahul']"
      ]
     },
     "execution_count": 6,
     "metadata": {},
     "output_type": "execute_result"
    }
   ],
   "source": [
    "players[:-1]"
   ]
  },
  {
   "cell_type": "code",
   "execution_count": 1,
   "id": "78991b89",
   "metadata": {},
   "outputs": [
    {
     "name": "stdout",
     "output_type": "stream",
     "text": [
      "110"
     ]
    }
   ],
   "source": [
    "l = [ ]\n",
    "def convert(b):\n",
    "  if(b==0):\n",
    "    return l\n",
    "  digit=b%2\n",
    "  l.append(digit)\n",
    "  convert(b//2)\n",
    "\n",
    "convert(6)\n",
    "l.reverse()\n",
    "for i in l:\n",
    "  print(i,end=\"\")"
   ]
  },
  {
   "cell_type": "code",
   "execution_count": 2,
   "id": "21157fb1",
   "metadata": {},
   "outputs": [],
   "source": [
    "def sentinelSearch(ar,target,n):\n",
    "  last = ar[n-1]\n",
    "  ar[n-1] = target\n",
    "  i = 0\n",
    "  while ar[i]!=target:\n",
    "    i+=1\n",
    "  ar[n-1] = last\n",
    "  if (i<n-1) or target==ar[n-1]:\n",
    "    return i\n",
    "  else:\n",
    "    return -1"
   ]
  },
  {
   "cell_type": "code",
   "execution_count": 3,
   "id": "510afd2e",
   "metadata": {},
   "outputs": [
    {
     "data": {
      "text/plain": [
       "4"
      ]
     },
     "execution_count": 3,
     "metadata": {},
     "output_type": "execute_result"
    }
   ],
   "source": [
    "sentinelSearch([1,2,3,4,5],5,5)"
   ]
  }
 ],
 "metadata": {
  "kernelspec": {
   "display_name": "Python 3 (ipykernel)",
   "language": "python",
   "name": "python3"
  },
  "language_info": {
   "codemirror_mode": {
    "name": "ipython",
    "version": 3
   },
   "file_extension": ".py",
   "mimetype": "text/x-python",
   "name": "python",
   "nbconvert_exporter": "python",
   "pygments_lexer": "ipython3",
   "version": "3.10.2"
  }
 },
 "nbformat": 4,
 "nbformat_minor": 5
}
