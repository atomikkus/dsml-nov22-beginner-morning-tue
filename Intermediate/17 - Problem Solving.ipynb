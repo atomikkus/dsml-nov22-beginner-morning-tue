{
 "cells": [
  {
   "cell_type": "code",
   "execution_count": 2,
   "id": "2cb05965",
   "metadata": {},
   "outputs": [],
   "source": [
    "def selection_sort(a, key = lambda x: x):\n",
    "    for i in range(len(a) - 1):\n",
    "        current_min = i\n",
    "        \n",
    "        for j in range(i + 1, len(a)):\n",
    "            if key(a[current_min]) > key(a[j]):\n",
    "                current_min = j\n",
    "        \n",
    "        if current_min != i:\n",
    "            a[current_min], a[i] = a[i], a[current_min]\n",
    "            \n",
    "    return a"
   ]
  },
  {
   "cell_type": "code",
   "execution_count": 3,
   "id": "b53a5908",
   "metadata": {},
   "outputs": [],
   "source": [
    "students = [\n",
    "    {\"name\": \"A\", \"marks\": 60},\n",
    "    {\"name\": \"B\", \"marks\": 90},\n",
    "    {\"name\": \"C\", \"marks\": 50},\n",
    "    {\"name\": \"D\", \"marks\": 80},\n",
    "    {\"name\": \"E\", \"marks\": 70},\n",
    "]"
   ]
  },
  {
   "cell_type": "code",
   "execution_count": 4,
   "id": "1a2bf965",
   "metadata": {},
   "outputs": [
    {
     "data": {
      "text/plain": [
       "[{'name': 'C', 'marks': 50},\n",
       " {'name': 'A', 'marks': 60},\n",
       " {'name': 'E', 'marks': 70},\n",
       " {'name': 'D', 'marks': 80},\n",
       " {'name': 'B', 'marks': 90}]"
      ]
     },
     "execution_count": 4,
     "metadata": {},
     "output_type": "execute_result"
    }
   ],
   "source": [
    "selection_sort(students, key = lambda x: x[\"marks\"])"
   ]
  },
  {
   "cell_type": "code",
   "execution_count": 5,
   "id": "6c74d88f",
   "metadata": {},
   "outputs": [],
   "source": [
    "students = [[\"Bipin Kalra\", 60, 5000], [\"Anant Mittal\", 55, 4000], [\"Gaurav Kumar\", 80, 1000]]"
   ]
  },
  {
   "cell_type": "code",
   "execution_count": 8,
   "id": "fa6a59fa",
   "metadata": {},
   "outputs": [
    {
     "data": {
      "text/plain": [
       "[['Anant Mittal', 55, 4000],\n",
       " ['Bipin Kalra', 60, 5000],\n",
       " ['Gaurav Kumar', 80, 1000]]"
      ]
     },
     "execution_count": 8,
     "metadata": {},
     "output_type": "execute_result"
    }
   ],
   "source": [
    "selection_sort(students, key = lambda x: x[0])"
   ]
  },
  {
   "cell_type": "code",
   "execution_count": 9,
   "id": "cd0555eb",
   "metadata": {},
   "outputs": [],
   "source": [
    "# RAISING EXCEPTIONS"
   ]
  },
  {
   "cell_type": "code",
   "execution_count": 10,
   "id": "7d320f59",
   "metadata": {},
   "outputs": [
    {
     "ename": "Exception",
     "evalue": "This is a random exception!",
     "output_type": "error",
     "traceback": [
      "\u001b[0;31m---------------------------------------------------------------------------\u001b[0m",
      "\u001b[0;31mException\u001b[0m                                 Traceback (most recent call last)",
      "\u001b[0;32m/var/folders/nn/c52y0d3j0gq59dpsswchkt2r0000gn/T/ipykernel_23788/3816135921.py\u001b[0m in \u001b[0;36m<module>\u001b[0;34m\u001b[0m\n\u001b[0;32m----> 1\u001b[0;31m \u001b[0;32mraise\u001b[0m \u001b[0mException\u001b[0m\u001b[0;34m(\u001b[0m\u001b[0;34m\"This is a random exception!\"\u001b[0m\u001b[0;34m)\u001b[0m\u001b[0;34m\u001b[0m\u001b[0;34m\u001b[0m\u001b[0m\n\u001b[0m",
      "\u001b[0;31mException\u001b[0m: This is a random exception!"
     ]
    }
   ],
   "source": [
    "raise Exception(\"This is a random exception!\")"
   ]
  },
  {
   "cell_type": "code",
   "execution_count": 11,
   "id": "4602e46e",
   "metadata": {},
   "outputs": [],
   "source": [
    "class MyCustomException(Exception):\n",
    "    def __str__(self):\n",
    "        return \"I HAVE BEEN RAISED!\""
   ]
  },
  {
   "cell_type": "code",
   "execution_count": 12,
   "id": "b3acf3cf",
   "metadata": {},
   "outputs": [
    {
     "ename": "MyCustomException",
     "evalue": "I HAVE BEEN RAISED!",
     "output_type": "error",
     "traceback": [
      "\u001b[0;31m---------------------------------------------------------------------------\u001b[0m",
      "\u001b[0;31mMyCustomException\u001b[0m                         Traceback (most recent call last)",
      "\u001b[0;32m/var/folders/nn/c52y0d3j0gq59dpsswchkt2r0000gn/T/ipykernel_23788/779197973.py\u001b[0m in \u001b[0;36m<module>\u001b[0;34m\u001b[0m\n\u001b[0;32m----> 1\u001b[0;31m \u001b[0;32mraise\u001b[0m \u001b[0mMyCustomException\u001b[0m\u001b[0;34m\u001b[0m\u001b[0;34m\u001b[0m\u001b[0m\n\u001b[0m",
      "\u001b[0;31mMyCustomException\u001b[0m: I HAVE BEEN RAISED!"
     ]
    }
   ],
   "source": [
    "raise MyCustomException"
   ]
  },
  {
   "cell_type": "code",
   "execution_count": 13,
   "id": "8c40a29c",
   "metadata": {},
   "outputs": [],
   "source": [
    "def main():\n",
    "    pass\n",
    "\n",
    "if __name__ == \"__main__\":\n",
    "    main()"
   ]
  },
  {
   "cell_type": "code",
   "execution_count": 14,
   "id": "cd8d4a80",
   "metadata": {},
   "outputs": [
    {
     "data": {
      "text/plain": [
       "'__main__'"
      ]
     },
     "execution_count": 14,
     "metadata": {},
     "output_type": "execute_result"
    }
   ],
   "source": [
    "__name__"
   ]
  },
  {
   "cell_type": "code",
   "execution_count": 17,
   "id": "95971fd3",
   "metadata": {},
   "outputs": [],
   "source": [
    "email_addresses = [\"bipin.kalra@scaler.com\", \"santhosh@random\", \"kartik.com\", \"random@super.com\", \"abc@def.com\"]"
   ]
  },
  {
   "cell_type": "code",
   "execution_count": 20,
   "id": "009b6615",
   "metadata": {},
   "outputs": [],
   "source": [
    "def valid_email(email):\n",
    "    components_email = email.split(\"@\")\n",
    "    \n",
    "    if len(components_email) != 2 or len(components_email[0]) >= 20:\n",
    "        return False\n",
    "    \n",
    "    second_part_components = components_email[1].split(\".\")\n",
    "    \n",
    "    if len(second_part_components) < 2:\n",
    "        return False\n",
    "    \n",
    "    return True"
   ]
  },
  {
   "cell_type": "code",
   "execution_count": 21,
   "id": "7d4fab56",
   "metadata": {},
   "outputs": [],
   "source": [
    "filtered_email_addresses = list(filter(valid_email, email_addresses))"
   ]
  },
  {
   "cell_type": "code",
   "execution_count": 24,
   "id": "64108d0b",
   "metadata": {},
   "outputs": [],
   "source": [
    "filtered_email_addresses.sort()"
   ]
  },
  {
   "cell_type": "code",
   "execution_count": 25,
   "id": "170c0343",
   "metadata": {},
   "outputs": [
    {
     "data": {
      "text/plain": [
       "['abc@def.com', 'bipin.kalra@scaler.com', 'random@super.com']"
      ]
     },
     "execution_count": 25,
     "metadata": {},
     "output_type": "execute_result"
    }
   ],
   "source": [
    "filtered_email_addresses"
   ]
  },
  {
   "cell_type": "code",
   "execution_count": 26,
   "id": "d782bf13",
   "metadata": {},
   "outputs": [],
   "source": [
    "numbers = [4, 6, 3, 10, 8, 7, 9, 2]"
   ]
  },
  {
   "cell_type": "code",
   "execution_count": 29,
   "id": "88a01814",
   "metadata": {},
   "outputs": [],
   "source": [
    "def second_min(numbers):\n",
    "    first_min = numbers[0]\n",
    "    second_min = 0\n",
    "    \n",
    "    for i in range(1, len(numbers)):\n",
    "        if numbers[i] < first_min:\n",
    "            second_min = first_min\n",
    "            first_min = numbers[i]\n",
    "        elif numbers[i] < second_min:\n",
    "            second_min = numbers[i]\n",
    "            \n",
    "    return second_min"
   ]
  },
  {
   "cell_type": "code",
   "execution_count": 30,
   "id": "ac4f2edf",
   "metadata": {},
   "outputs": [
    {
     "data": {
      "text/plain": [
       "3"
      ]
     },
     "execution_count": 30,
     "metadata": {},
     "output_type": "execute_result"
    }
   ],
   "source": [
    "second_min(numbers)"
   ]
  },
  {
   "cell_type": "code",
   "execution_count": 31,
   "id": "ce3e23d2",
   "metadata": {},
   "outputs": [],
   "source": [
    "string = '''We spent several years building our own database engine, Amazon Aurora, a fully-managed MySQL and PostgreSQL-compatible service with the same or better durability and availability as\n",
    "the commercial engines, but at one-tenth of the cost. We were not surprised when this worked.'''"
   ]
  },
  {
   "cell_type": "code",
   "execution_count": 32,
   "id": "e1ee34d8",
   "metadata": {},
   "outputs": [],
   "source": [
    "result = lambda key, value: key[ key.find(value) - 18 : key.find(value) + 18] if value in key else -1"
   ]
  },
  {
   "cell_type": "code",
   "execution_count": 34,
   "id": "1951c976",
   "metadata": {},
   "outputs": [
    {
     "data": {
      "text/plain": [
       "'a fully-managed MySQL and PostgreSQL'"
      ]
     },
     "execution_count": 34,
     "metadata": {},
     "output_type": "execute_result"
    }
   ],
   "source": [
    "result(string, \"SQL\")"
   ]
  },
  {
   "cell_type": "code",
   "execution_count": 35,
   "id": "89db925b",
   "metadata": {},
   "outputs": [
    {
     "data": {
      "text/plain": [
       "10"
      ]
     },
     "execution_count": 35,
     "metadata": {},
     "output_type": "execute_result"
    }
   ],
   "source": [
    "\"this is a random string\".find(\"random\")"
   ]
  },
  {
   "cell_type": "code",
   "execution_count": 37,
   "id": "5744516b",
   "metadata": {},
   "outputs": [],
   "source": [
    "def random(key, value):\n",
    "    if value in key:\n",
    "        value_index = key.find(value)\n",
    "    \n",
    "        return key[value_index - 18 : value_index + 18]\n",
    "    else:\n",
    "        return -1"
   ]
  },
  {
   "cell_type": "code",
   "execution_count": 39,
   "id": "cacf6f57",
   "metadata": {},
   "outputs": [
    {
     "data": {
      "text/plain": [
       "'a fully-managed MySQL and PostgreSQL'"
      ]
     },
     "execution_count": 39,
     "metadata": {},
     "output_type": "execute_result"
    }
   ],
   "source": [
    "random(string, \"SQL\")"
   ]
  },
  {
   "cell_type": "code",
   "execution_count": null,
   "id": "aa4c9fb2",
   "metadata": {},
   "outputs": [],
   "source": []
  }
 ],
 "metadata": {
  "kernelspec": {
   "display_name": "Python 3 (ipykernel)",
   "language": "python",
   "name": "python3"
  },
  "language_info": {
   "codemirror_mode": {
    "name": "ipython",
    "version": 3
   },
   "file_extension": ".py",
   "mimetype": "text/x-python",
   "name": "python",
   "nbconvert_exporter": "python",
   "pygments_lexer": "ipython3",
   "version": "3.9.5"
  }
 },
 "nbformat": 4,
 "nbformat_minor": 5
}
