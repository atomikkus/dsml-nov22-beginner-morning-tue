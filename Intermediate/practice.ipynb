{
 "cells": [
  {
   "cell_type": "code",
   "execution_count": null,
   "metadata": {},
   "outputs": [],
   "source": [
    "### Sorting"
   ]
  },
  {
   "cell_type": "code",
   "execution_count": 1,
   "metadata": {},
   "outputs": [],
   "source": [
    "def insertion_sort(arr):\n",
    "    for i in range(1, len(arr)):\n",
    "        key = arr[i]\n",
    "        j = i - 1\n",
    "        while j >= 0 and key < arr[j]:\n",
    "            arr[j+1] = arr[j]\n",
    "            j -= 1\n",
    "        arr[j+1] = key\n"
   ]
  },
  {
   "cell_type": "code",
   "execution_count": 22,
   "metadata": {},
   "outputs": [
    {
     "name": "stdout",
     "output_type": "stream",
     "text": [
      "11\n",
      "To be swapped 12 and 11\n",
      "[12, 12, 13, 5, 6]\n",
      "count the j --> -1\n",
      "NEW array -  [11, 12, 13, 5, 6]\n",
      "13\n",
      "NEW array -  [11, 12, 13, 5, 6]\n",
      "[11, 12, 13, 5, 6]\n",
      "13\n"
     ]
    }
   ],
   "source": [
    "arr=[12, 11, 13, 5, 6]\n",
    "\n",
    "counter=0\n",
    "for i in range(1,len(arr)):\n",
    "    key=arr[i]\n",
    "    print(key)\n",
    "    j=i-1\n",
    "    counter+=1\n",
    "    \n",
    "    \n",
    "    while j>=0 and key < arr[j]:\n",
    "        print(f'To be swapped {arr[j]} and {arr[j+1]}')\n",
    "        arr[j+1]=arr[j]\n",
    "        print(arr)\n",
    "        j-=1\n",
    "        print(f'count the j --> {j}')\n",
    "    arr[j+1]=key\n",
    "    print(f'NEW array -  {arr}')\n",
    "\n",
    "    if counter==2:\n",
    "        break\n",
    "\n",
    "print(arr)\n",
    "print(arr[len(arr)//2])\n",
    "\n"
   ]
  },
  {
   "cell_type": "code",
   "execution_count": 25,
   "metadata": {},
   "outputs": [
    {
     "name": "stdout",
     "output_type": "stream",
     "text": [
      "4\n"
     ]
    }
   ],
   "source": [
    "a=[3,5,7,14,15]\n",
    "counter=0\n",
    "for i in range(len(a) - 1):\n",
    "    \n",
    "    current_min = i\n",
    "    \n",
    "    for j in range(i + 1, len(a)):\n",
    "        if a[current_min] > a[j]:\n",
    "            current_min = j\n",
    "    \n",
    "    if current_min != i:\n",
    "        a[current_min], a[i] = a[i], a[current_min]\n",
    "    counter+=1\n",
    "print(counter)"
   ]
  },
  {
   "cell_type": "code",
   "execution_count": null,
   "metadata": {},
   "outputs": [],
   "source": []
  }
 ],
 "metadata": {
  "kernelspec": {
   "display_name": "Python 3",
   "language": "python",
   "name": "python3"
  },
  "language_info": {
   "codemirror_mode": {
    "name": "ipython",
    "version": 3
   },
   "file_extension": ".py",
   "mimetype": "text/x-python",
   "name": "python",
   "nbconvert_exporter": "python",
   "pygments_lexer": "ipython3",
   "version": "3.10.2"
  },
  "orig_nbformat": 4
 },
 "nbformat": 4,
 "nbformat_minor": 2
}
