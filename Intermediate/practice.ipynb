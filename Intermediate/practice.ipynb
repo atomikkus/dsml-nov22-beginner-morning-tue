{
 "cells": [
  {
   "cell_type": "code",
   "execution_count": null,
   "metadata": {},
   "outputs": [],
   "source": [
    "### Sorting"
   ]
  },
  {
   "cell_type": "code",
   "execution_count": 1,
   "metadata": {},
   "outputs": [],
   "source": [
    "def insertion_sort(arr):\n",
    "    for i in range(1, len(arr)):\n",
    "        key = arr[i]\n",
    "        j = i - 1\n",
    "        while j >= 0 and key < arr[j]:\n",
    "            arr[j+1] = arr[j]\n",
    "            j -= 1\n",
    "        arr[j+1] = key\n"
   ]
  },
  {
   "cell_type": "code",
   "execution_count": 22,
   "metadata": {},
   "outputs": [
    {
     "name": "stdout",
     "output_type": "stream",
     "text": [
      "11\n",
      "To be swapped 12 and 11\n",
      "[12, 12, 13, 5, 6]\n",
      "count the j --> -1\n",
      "NEW array -  [11, 12, 13, 5, 6]\n",
      "13\n",
      "NEW array -  [11, 12, 13, 5, 6]\n",
      "[11, 12, 13, 5, 6]\n",
      "13\n"
     ]
    }
   ],
   "source": [
    "arr=[12, 11, 13, 5, 6]\n",
    "\n",
    "counter=0\n",
    "for i in range(1,len(arr)):\n",
    "    key=arr[i]\n",
    "    print(key)\n",
    "    j=i-1\n",
    "    counter+=1\n",
    "    \n",
    "    \n",
    "    while j>=0 and key < arr[j]:\n",
    "        print(f'To be swapped {arr[j]} and {arr[j+1]}')\n",
    "        arr[j+1]=arr[j]\n",
    "        print(arr)\n",
    "        j-=1\n",
    "        print(f'count the j --> {j}')\n",
    "    arr[j+1]=key\n",
    "    print(f'NEW array -  {arr}')\n",
    "\n",
    "    if counter==2:\n",
    "        break\n",
    "\n",
    "print(arr)\n",
    "print(arr[len(arr)//2])\n",
    "\n"
   ]
  },
  {
   "cell_type": "code",
   "execution_count": 25,
   "metadata": {},
   "outputs": [
    {
     "name": "stdout",
     "output_type": "stream",
     "text": [
      "4\n"
     ]
    }
   ],
   "source": [
    "a=[3,5,7,14,15]\n",
    "counter=0\n",
    "for i in range(len(a) - 1):\n",
    "    \n",
    "    current_min = i\n",
    "    \n",
    "    for j in range(i + 1, len(a)):\n",
    "        if a[current_min] > a[j]:\n",
    "            current_min = j\n",
    "    \n",
    "    if current_min != i:\n",
    "        a[current_min], a[i] = a[i], a[current_min]\n",
    "    counter+=1\n",
    "print(counter)"
   ]
  },
  {
   "cell_type": "code",
   "execution_count": 5,
   "metadata": {},
   "outputs": [
    {
     "data": {
      "text/plain": [
       "True"
      ]
     },
     "execution_count": 5,
     "metadata": {},
     "output_type": "execute_result"
    }
   ],
   "source": [
    "2<=4"
   ]
  },
  {
   "cell_type": "code",
   "execution_count": 7,
   "metadata": {},
   "outputs": [
    {
     "data": {
      "text/plain": [
       "True"
      ]
     },
     "execution_count": 7,
     "metadata": {},
     "output_type": "execute_result"
    }
   ],
   "source": [
    "3//2==1"
   ]
  },
  {
   "cell_type": "code",
   "execution_count": 12,
   "metadata": {},
   "outputs": [],
   "source": [
    "def binarySearch(Arr,N):\n",
    "    start = 0\n",
    "    end = len(Arr)-1\n",
    "\n",
    "    while start<=end:\n",
    "        mid=(start+end)//2\n",
    "\n",
    "        if Arr[mid]==N:\n",
    "            return mid\n",
    "        \n",
    "        elif Arr[mid] < N:\n",
    "            start=mid+1\n",
    "        else:\n",
    "            end=mid-1\n",
    "\n",
    "    #return \"Element not found\""
   ]
  },
  {
   "cell_type": "code",
   "execution_count": 13,
   "metadata": {},
   "outputs": [
    {
     "data": {
      "text/plain": [
       "6"
      ]
     },
     "execution_count": 13,
     "metadata": {},
     "output_type": "execute_result"
    }
   ],
   "source": [
    "binarySearch([1,2,3,4,5,6,7,8], 7)"
   ]
  },
  {
   "cell_type": "code",
   "execution_count": null,
   "metadata": {},
   "outputs": [],
   "source": [
    "def bubble_sort(a):\n",
    "    for i in range(len(a)):\n",
    "        for j in range(len(a) - i - 1):\n",
    "            if a[j] > a[j+1]:\n",
    "                a[j], a[j+1] = a[j+1], a[j]\n",
    "                \n",
    "    return a"
   ]
  },
  {
   "cell_type": "code",
   "execution_count": 23,
   "metadata": {},
   "outputs": [],
   "source": [
    "def selection_sort(A):\n",
    "    counter=0\n",
    "    for i in range(len(A)):\n",
    "        current_min=i\n",
    "        counter+=1\n",
    "\n",
    "        for j in range(i+1,len(A)):\n",
    "            if A[current_min]>A[j]:\n",
    "                current_min=j\n",
    "        if current_min!=i:\n",
    "            A[current_min],A[i]=A[i],A[current_min]\n",
    "    return A,counter\n"
   ]
  },
  {
   "cell_type": "code",
   "execution_count": 25,
   "metadata": {},
   "outputs": [
    {
     "data": {
      "text/plain": [
       "([1, 2, 3, 4, 5], 5)"
      ]
     },
     "execution_count": 25,
     "metadata": {},
     "output_type": "execute_result"
    }
   ],
   "source": [
    "selection_sort([5,3,4,2,1])"
   ]
  },
  {
   "cell_type": "code",
   "execution_count": 2,
   "metadata": {},
   "outputs": [
    {
     "data": {
      "text/plain": [
       "{'price': 50, 'quantity': 10, 'bags': 2}"
      ]
     },
     "execution_count": 2,
     "metadata": {},
     "output_type": "execute_result"
    }
   ],
   "source": [
    "obj.__dict__"
   ]
  },
  {
   "cell_type": "code",
   "execution_count": 1,
   "metadata": {},
   "outputs": [
    {
     "name": "stdout",
     "output_type": "stream",
     "text": [
      "13\n"
     ]
    }
   ],
   "source": [
    "class fruits:\n",
    "    def __init__(self, price):\n",
    "        self.price = price\n",
    "\n",
    "obj=fruits(50)\n",
    "obj.quantity=10\n",
    "obj.bags=2\n",
    "\n",
    "print(obj.quantity+len(obj.__dict__))"
   ]
  },
  {
   "cell_type": "code",
   "execution_count": 4,
   "metadata": {},
   "outputs": [
    {
     "name": "stdout",
     "output_type": "stream",
     "text": [
      "Roll: 34 Marks: A None Age: 17\n"
     ]
    }
   ],
   "source": [
    "class Student:\n",
    "    def __init__(self,roll,marks):\n",
    "        self.roll = roll\n",
    "        self.marks = marks\n",
    "    def display(self):\n",
    "        print('Roll:', self.roll,'Marks:',self.marks, end=\" \")\n",
    "\n",
    "student1 = Student(34,'A')\n",
    "student1.age = 17\n",
    "print(student1.display(), 'Age:',student1.age)"
   ]
  },
  {
   "cell_type": "code",
   "execution_count": 5,
   "metadata": {},
   "outputs": [
    {
     "name": "stdout",
     "output_type": "stream",
     "text": [
      "[(True, 64), (False, 125), (True, 216)]\n"
     ]
    }
   ],
   "source": [
    "class solution:\n",
    "  def initial(self,sets):\n",
    "    return self.final(sets)\n",
    " \n",
    "  def final(self, sets):\n",
    "    return list(map(lambda x: ((x**3)%2==0,x**3),sets))\n",
    "\n",
    "print(solution().initial([4,5,6]))"
   ]
  },
  {
   "cell_type": "code",
   "execution_count": 3,
   "metadata": {},
   "outputs": [
    {
     "name": "stdout",
     "output_type": "stream",
     "text": [
      "lose win\n"
     ]
    }
   ],
   "source": [
    "class football:\n",
    "    final_res= 'lose'\n",
    "    def __init__(self,name,score):\n",
    "        self.name = name\n",
    "        self.score = score\n",
    "        self.final_res = 'lose'\n",
    "    \n",
    "    def calc(self, winning_score):\n",
    "        if self.score>winning_score:\n",
    "            self.final_res='win'\n",
    "match = football('Juventus',3)\n",
    "match.calc(2)\n",
    "print(football.final_res, match.final_res)"
   ]
  },
  {
   "cell_type": "code",
   "execution_count": null,
   "metadata": {},
   "outputs": [],
   "source": [
    "class Bill():\n",
    "\n",
    "    def __init__(self, prev_read, cur_read):\n",
    "        self.prev_read = prev_read\n",
    "        self.cur_read = cur_read\n",
    "        #YOUR CODE GOESS HERE\n",
    "        \n",
    "        \n",
    "        \n",
    "    def total_bill(self):\n",
    "        total=0.0\n",
    "        #YOUR CODE GOESS HERE\n",
    "        reading=self.cur_read-self.prev_read\n",
    "\n",
    "        if reading<=100:\n",
    "            total=reading*3.5\n",
    "        elif 100<=reading<=200:\n",
    "            total=100*3.5+(reading-100)*5\n",
    "        elif reading > 200:\n",
    "            total=100*3.5+100*5+(reading-200)*8\n",
    "\n",
    "        return total"
   ]
  },
  {
   "cell_type": "code",
   "execution_count": 6,
   "metadata": {},
   "outputs": [],
   "source": [
    "class Circle:\n",
    "    pi = 3.14\n",
    "    def __init__(self, diameter):\n",
    "        self.radius = diameter / 2\n",
    "\n",
    "    def circumference(self):\n",
    "        return 2 * self.pi * self.radius"
   ]
  },
  {
   "cell_type": "code",
   "execution_count": 7,
   "metadata": {},
   "outputs": [
    {
     "data": {
      "text/plain": [
       "37.68"
      ]
     },
     "execution_count": 7,
     "metadata": {},
     "output_type": "execute_result"
    }
   ],
   "source": [
    "pizza = Circle(12)\n",
    "pizza.circumference()"
   ]
  },
  {
   "cell_type": "code",
   "execution_count": 1,
   "metadata": {},
   "outputs": [],
   "source": [
    "class Smaller:\n",
    "    def __init__(self,a):\n",
    "        self.string=a\n",
    "    \n",
    "    def display(self):\n",
    "        print(\"The type of Name is smaller\")\n",
    "    \n",
    "    def evaluate(self):\n",
    "        ans=0\n",
    "        \n",
    "        # YOUR CODE GOES HERE\n",
    "        vowels=['a','e','i','o','u','A','E','I','O','U']\n",
    "        for i in self.string:\n",
    "            if i in vowels:\n",
    "                ans+=1\n",
    "\n",
    "        \n",
    "        print(ans)\n",
    "        \n",
    "class Larger:\n",
    "    def __init__(self,a):\n",
    "        self.string=a\n",
    "    \n",
    "    def display(self):\n",
    "        print(\"The type of Name is larger\")\n",
    "    \n",
    "    def evaluate(self):\n",
    "        ans=0\n",
    "        \n",
    "        # YOUR CODE GOES HERE\n",
    "        vowels=['a','e','i','o','u','A','E','I','O','U']\n",
    "        for i in self.string:\n",
    "            if i in vowels:\n",
    "                ans+=1\n",
    "\n",
    "        print(ans)\n",
    "\n",
    "def main(a):\n",
    "    '''\n",
    "    input a is string\n",
    "    '''\n",
    "    if len(a)<6:\n",
    "        obj=Smaller(a)\n",
    "        obj.display()\n",
    "        obj.evaluate()\n",
    "    else:\n",
    "        obj=Larger(a)\n",
    "        obj.display()\n",
    "        obj.evaluate()\n",
    "    "
   ]
  },
  {
   "cell_type": "code",
   "execution_count": null,
   "metadata": {},
   "outputs": [],
   "source": [
    "def bubble_sort(a):\n",
    "    for i in range(len(a)):\n",
    "        for j in range(len(a) - i - 1):\n",
    "            if a[j] > a[j+1]:\n",
    "                a[j], a[j+1] = a[j+1], a[j]\n",
    "                \n",
    "    return a"
   ]
  },
  {
   "cell_type": "code",
   "execution_count": null,
   "metadata": {},
   "outputs": [],
   "source": [
    "def dict_sorted(A):\n",
    "    for i in range(A):\n",
    "        \n"
   ]
  },
  {
   "cell_type": "code",
   "execution_count": 1,
   "metadata": {},
   "outputs": [
    {
     "name": "stdout",
     "output_type": "stream",
     "text": [
      "\u001b[1;31mSignature:\u001b[0m \u001b[0msorted\u001b[0m\u001b[1;33m(\u001b[0m\u001b[0miterable\u001b[0m\u001b[1;33m,\u001b[0m \u001b[1;33m/\u001b[0m\u001b[1;33m,\u001b[0m \u001b[1;33m*\u001b[0m\u001b[1;33m,\u001b[0m \u001b[0mkey\u001b[0m\u001b[1;33m=\u001b[0m\u001b[1;32mNone\u001b[0m\u001b[1;33m,\u001b[0m \u001b[0mreverse\u001b[0m\u001b[1;33m=\u001b[0m\u001b[1;32mFalse\u001b[0m\u001b[1;33m)\u001b[0m\u001b[1;33m\u001b[0m\u001b[1;33m\u001b[0m\u001b[0m\n",
      "\u001b[1;31mDocstring:\u001b[0m\n",
      "Return a new list containing all items from the iterable in ascending order.\n",
      "\n",
      "A custom key function can be supplied to customize the sort order, and the\n",
      "reverse flag can be set to request the result in descending order.\n",
      "\u001b[1;31mType:\u001b[0m      builtin_function_or_method\n"
     ]
    }
   ],
   "source": [
    "sorted?"
   ]
  },
  {
   "cell_type": "code",
   "execution_count": 9,
   "metadata": {},
   "outputs": [],
   "source": [
    "def gen_exp(n):\n",
    "    def exp(x):\n",
    "        return x**n\n",
    "    return exp"
   ]
  },
  {
   "cell_type": "code",
   "execution_count": 10,
   "metadata": {},
   "outputs": [],
   "source": [
    "exp1 = gen_exp(2)"
   ]
  },
  {
   "cell_type": "code",
   "execution_count": 12,
   "metadata": {},
   "outputs": [
    {
     "data": {
      "text/plain": [
       "400"
      ]
     },
     "execution_count": 12,
     "metadata": {},
     "output_type": "execute_result"
    }
   ],
   "source": [
    "exp1(20)"
   ]
  },
  {
   "cell_type": "code",
   "execution_count": 13,
   "metadata": {},
   "outputs": [],
   "source": [
    "def genexp2(n):\n",
    "    return lambda x:x**n"
   ]
  },
  {
   "cell_type": "code",
   "execution_count": 14,
   "metadata": {},
   "outputs": [],
   "source": [
    "dumbo = genexp2(2)"
   ]
  },
  {
   "cell_type": "code",
   "execution_count": 15,
   "metadata": {},
   "outputs": [
    {
     "data": {
      "text/plain": [
       "441"
      ]
     },
     "execution_count": 15,
     "metadata": {},
     "output_type": "execute_result"
    }
   ],
   "source": [
    "dumbo(21)"
   ]
  }
 ],
 "metadata": {
  "kernelspec": {
   "display_name": "Python 3",
   "language": "python",
   "name": "python3"
  },
  "language_info": {
   "codemirror_mode": {
    "name": "ipython",
    "version": 3
   },
   "file_extension": ".py",
   "mimetype": "text/x-python",
   "name": "python",
   "nbconvert_exporter": "python",
   "pygments_lexer": "ipython3",
   "version": "3.10.2"
  },
  "orig_nbformat": 4
 },
 "nbformat": 4,
 "nbformat_minor": 2
}
