{
 "cells": [
  {
   "cell_type": "code",
   "execution_count": null,
   "metadata": {},
   "outputs": [],
   "source": [
    "### Sorting"
   ]
  },
  {
   "cell_type": "code",
   "execution_count": 1,
   "metadata": {},
   "outputs": [],
   "source": [
    "def insertion_sort(arr):\n",
    "    for i in range(1, len(arr)):\n",
    "        key = arr[i]\n",
    "        j = i - 1\n",
    "        while j >= 0 and key < arr[j]:\n",
    "            arr[j+1] = arr[j]\n",
    "            j -= 1\n",
    "        arr[j+1] = key\n"
   ]
  },
  {
   "cell_type": "code",
   "execution_count": 22,
   "metadata": {},
   "outputs": [
    {
     "name": "stdout",
     "output_type": "stream",
     "text": [
      "11\n",
      "To be swapped 12 and 11\n",
      "[12, 12, 13, 5, 6]\n",
      "count the j --> -1\n",
      "NEW array -  [11, 12, 13, 5, 6]\n",
      "13\n",
      "NEW array -  [11, 12, 13, 5, 6]\n",
      "[11, 12, 13, 5, 6]\n",
      "13\n"
     ]
    }
   ],
   "source": [
    "arr=[12, 11, 13, 5, 6]\n",
    "\n",
    "counter=0\n",
    "for i in range(1,len(arr)):\n",
    "    key=arr[i]\n",
    "    print(key)\n",
    "    j=i-1\n",
    "    counter+=1\n",
    "    \n",
    "    \n",
    "    while j>=0 and key < arr[j]:\n",
    "        print(f'To be swapped {arr[j]} and {arr[j+1]}')\n",
    "        arr[j+1]=arr[j]\n",
    "        print(arr)\n",
    "        j-=1\n",
    "        print(f'count the j --> {j}')\n",
    "    arr[j+1]=key\n",
    "    print(f'NEW array -  {arr}')\n",
    "\n",
    "    if counter==2:\n",
    "        break\n",
    "\n",
    "print(arr)\n",
    "print(arr[len(arr)//2])\n",
    "\n"
   ]
  },
  {
   "cell_type": "code",
   "execution_count": 25,
   "metadata": {},
   "outputs": [
    {
     "name": "stdout",
     "output_type": "stream",
     "text": [
      "4\n"
     ]
    }
   ],
   "source": [
    "a=[3,5,7,14,15]\n",
    "counter=0\n",
    "for i in range(len(a) - 1):\n",
    "    \n",
    "    current_min = i\n",
    "    \n",
    "    for j in range(i + 1, len(a)):\n",
    "        if a[current_min] > a[j]:\n",
    "            current_min = j\n",
    "    \n",
    "    if current_min != i:\n",
    "        a[current_min], a[i] = a[i], a[current_min]\n",
    "    counter+=1\n",
    "print(counter)"
   ]
  },
  {
   "cell_type": "code",
   "execution_count": 5,
   "metadata": {},
   "outputs": [
    {
     "data": {
      "text/plain": [
       "True"
      ]
     },
     "execution_count": 5,
     "metadata": {},
     "output_type": "execute_result"
    }
   ],
   "source": [
    "2<=4"
   ]
  },
  {
   "cell_type": "code",
   "execution_count": 7,
   "metadata": {},
   "outputs": [
    {
     "data": {
      "text/plain": [
       "True"
      ]
     },
     "execution_count": 7,
     "metadata": {},
     "output_type": "execute_result"
    }
   ],
   "source": [
    "3//2==1"
   ]
  },
  {
   "cell_type": "code",
   "execution_count": 12,
   "metadata": {},
   "outputs": [],
   "source": [
    "def binarySearch(Arr,N):\n",
    "    start = 0\n",
    "    end = len(Arr)-1\n",
    "\n",
    "    while start<=end:\n",
    "        mid=(start+end)//2\n",
    "\n",
    "        if Arr[mid]==N:\n",
    "            return mid\n",
    "        \n",
    "        elif Arr[mid] < N:\n",
    "            start=mid+1\n",
    "        else:\n",
    "            end=mid-1\n",
    "\n",
    "    #return \"Element not found\""
   ]
  },
  {
   "cell_type": "code",
   "execution_count": 13,
   "metadata": {},
   "outputs": [
    {
     "data": {
      "text/plain": [
       "6"
      ]
     },
     "execution_count": 13,
     "metadata": {},
     "output_type": "execute_result"
    }
   ],
   "source": [
    "binarySearch([1,2,3,4,5,6,7,8], 7)"
   ]
  },
  {
   "cell_type": "code",
   "execution_count": null,
   "metadata": {},
   "outputs": [],
   "source": [
    "def bubble_sort(a):\n",
    "    for i in range(len(a)):\n",
    "        for j in range(len(a) - i - 1):\n",
    "            if a[j] > a[j+1]:\n",
    "                a[j], a[j+1] = a[j+1], a[j]\n",
    "                \n",
    "    return a"
   ]
  },
  {
   "cell_type": "code",
   "execution_count": 23,
   "metadata": {},
   "outputs": [],
   "source": [
    "def selection_sort(A):\n",
    "    counter=0\n",
    "    for i in range(len(A)):\n",
    "        current_min=i\n",
    "        counter+=1\n",
    "\n",
    "        for j in range(i+1,len(A)):\n",
    "            if A[current_min]>A[j]:\n",
    "                current_min=j\n",
    "        if current_min!=i:\n",
    "            A[current_min],A[i]=A[i],A[current_min]\n",
    "    return A,counter\n"
   ]
  },
  {
   "cell_type": "code",
   "execution_count": 25,
   "metadata": {},
   "outputs": [
    {
     "data": {
      "text/plain": [
       "([1, 2, 3, 4, 5], 5)"
      ]
     },
     "execution_count": 25,
     "metadata": {},
     "output_type": "execute_result"
    }
   ],
   "source": [
    "selection_sort([5,3,4,2,1])"
   ]
  }
 ],
 "metadata": {
  "kernelspec": {
   "display_name": "Python 3",
   "language": "python",
   "name": "python3"
  },
  "language_info": {
   "codemirror_mode": {
    "name": "ipython",
    "version": 3
   },
   "file_extension": ".py",
   "mimetype": "text/x-python",
   "name": "python",
   "nbconvert_exporter": "python",
   "pygments_lexer": "ipython3",
   "version": "3.10.2"
  },
  "orig_nbformat": 4
 },
 "nbformat": 4,
 "nbformat_minor": 2
}
