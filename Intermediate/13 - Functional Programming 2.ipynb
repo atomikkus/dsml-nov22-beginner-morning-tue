{
 "cells": [
  {
   "cell_type": "markdown",
   "id": "cf28ffdf",
   "metadata": {},
   "source": [
    "## MAPS"
   ]
  },
  {
   "cell_type": "code",
   "execution_count": 6,
   "id": "ad317441",
   "metadata": {},
   "outputs": [],
   "source": [
    "a = [1, 3, 2, 5, 4]"
   ]
  },
  {
   "cell_type": "code",
   "execution_count": 7,
   "id": "e8272607",
   "metadata": {},
   "outputs": [],
   "source": [
    "m = list(map(lambda x: x**2, a))"
   ]
  },
  {
   "cell_type": "code",
   "execution_count": 8,
   "id": "a27ce2a9",
   "metadata": {},
   "outputs": [
    {
     "data": {
      "text/plain": [
       "[1, 9, 4, 25, 16]"
      ]
     },
     "execution_count": 8,
     "metadata": {},
     "output_type": "execute_result"
    }
   ],
   "source": [
    "m"
   ]
  },
  {
   "cell_type": "code",
   "execution_count": 9,
   "id": "ec69b366",
   "metadata": {},
   "outputs": [
    {
     "data": {
      "text/plain": [
       "'\\nQuestion 1 ->\\n\\nMap a list of heights to a list of T-Shirt sizes!\\nheights -> [150, 165, 182, 140, 155, 170]\\n\\nh <= 150 -> S\\nh > 150 and h <= 180 -> M\\nh > 180 -> L\\n\\noutput -> [S, M, L, S, M, M]\\n'"
      ]
     },
     "execution_count": 9,
     "metadata": {},
     "output_type": "execute_result"
    }
   ],
   "source": [
    "'''\n",
    "Question 1 ->\n",
    "\n",
    "Map a list of heights to a list of T-Shirt sizes!\n",
    "heights -> [150, 165, 182, 140, 155, 170]\n",
    "\n",
    "h <= 150 -> S\n",
    "h > 150 and h <= 180 -> M\n",
    "h > 180 -> L\n",
    "\n",
    "output -> [S, M, L, S, M, M]\n",
    "'''"
   ]
  },
  {
   "cell_type": "code",
   "execution_count": 10,
   "id": "a6473eca",
   "metadata": {},
   "outputs": [],
   "source": [
    "heights = [150, 165, 182, 140, 155, 170]"
   ]
  },
  {
   "cell_type": "code",
   "execution_count": 11,
   "id": "7bba376b",
   "metadata": {},
   "outputs": [
    {
     "data": {
      "text/plain": [
       "['S', 'M', 'L', 'S', 'M', 'M']"
      ]
     },
     "execution_count": 11,
     "metadata": {},
     "output_type": "execute_result"
    }
   ],
   "source": [
    "list(map(lambda x: \"S\" if x <= 150 else \"M\" if x > 150 and x <= 180 else \"L\", heights))"
   ]
  },
  {
   "cell_type": "code",
   "execution_count": 12,
   "id": "9700c708",
   "metadata": {},
   "outputs": [],
   "source": [
    "def sizing_logic(x):\n",
    "    if x <= 150:\n",
    "        return \"S\"\n",
    "    elif x > 150 and x <= 180:\n",
    "        return \"M\"\n",
    "    else:\n",
    "        return \"L\""
   ]
  },
  {
   "cell_type": "code",
   "execution_count": 13,
   "id": "43be52e2",
   "metadata": {
    "scrolled": true
   },
   "outputs": [
    {
     "data": {
      "text/plain": [
       "['S', 'M', 'L', 'S', 'M', 'M']"
      ]
     },
     "execution_count": 13,
     "metadata": {},
     "output_type": "execute_result"
    }
   ],
   "source": [
    "list(map(sizing_logic, heights))"
   ]
  },
  {
   "cell_type": "code",
   "execution_count": 14,
   "id": "6b164278",
   "metadata": {},
   "outputs": [
    {
     "data": {
      "text/plain": [
       "'\\nQuestion 2 ->\\n\\nA = [0,0,1,1,0]\\nB = [1,0,0,1,1]\\n\\nResult = [False, True, False, True, False]\\n'"
      ]
     },
     "execution_count": 14,
     "metadata": {},
     "output_type": "execute_result"
    }
   ],
   "source": [
    "'''\n",
    "Question 2 ->\n",
    "\n",
    "A = [0,0,1,1,0]\n",
    "B = [1,0,0,1,1]\n",
    "\n",
    "Result = [False, True, False, True, False]\n",
    "'''"
   ]
  },
  {
   "cell_type": "code",
   "execution_count": 28,
   "id": "37b14144",
   "metadata": {},
   "outputs": [],
   "source": [
    "A = [0,0,1,1,0]\n",
    "B = [1,0,0,1,1,0,0,0,0,0]"
   ]
  },
  {
   "cell_type": "code",
   "execution_count": 29,
   "id": "5bd465fe",
   "metadata": {},
   "outputs": [
    {
     "data": {
      "text/plain": [
       "[False, True, False, True, False]"
      ]
     },
     "execution_count": 29,
     "metadata": {},
     "output_type": "execute_result"
    }
   ],
   "source": [
    "list(map(lambda x, y: x == y, A, B))"
   ]
  },
  {
   "cell_type": "markdown",
   "id": "5b0534f0",
   "metadata": {},
   "source": [
    "## FILTERS"
   ]
  },
  {
   "cell_type": "code",
   "execution_count": 17,
   "id": "70e6c86a",
   "metadata": {},
   "outputs": [],
   "source": [
    "a = [1, 2, 3, 4, 5, 6, 7, 8, 9, 10]"
   ]
  },
  {
   "cell_type": "code",
   "execution_count": 20,
   "id": "bc50e4f3",
   "metadata": {},
   "outputs": [],
   "source": [
    "f = list(filter(lambda x: x % 2 == 1, a))"
   ]
  },
  {
   "cell_type": "code",
   "execution_count": 21,
   "id": "6c006602",
   "metadata": {},
   "outputs": [
    {
     "data": {
      "text/plain": [
       "[1, 3, 5, 7, 9]"
      ]
     },
     "execution_count": 21,
     "metadata": {},
     "output_type": "execute_result"
    }
   ],
   "source": [
    "f"
   ]
  },
  {
   "cell_type": "markdown",
   "id": "e0c49530",
   "metadata": {},
   "source": [
    "## ZIP"
   ]
  },
  {
   "cell_type": "code",
   "execution_count": 22,
   "id": "6ae8e52a",
   "metadata": {},
   "outputs": [],
   "source": [
    "a = [1, 2, 3, 4, 5]\n",
    "b = [\"a\", \"b\", \"c\", \"d\", \"e\"]"
   ]
  },
  {
   "cell_type": "code",
   "execution_count": 23,
   "id": "84adf968",
   "metadata": {},
   "outputs": [
    {
     "data": {
      "text/plain": [
       "[(1, 'a'), (2, 'b'), (3, 'c'), (4, 'd'), (5, 'e')]"
      ]
     },
     "execution_count": 23,
     "metadata": {},
     "output_type": "execute_result"
    }
   ],
   "source": [
    "list(zip(a, b))"
   ]
  },
  {
   "cell_type": "code",
   "execution_count": 24,
   "id": "c329f8bb",
   "metadata": {},
   "outputs": [],
   "source": [
    "a = [1, 2, 3, 4, 5, 6, 7, 8, 9, 10]\n",
    "b = [\"a\", \"b\", \"c\", \"d\", \"e\"]"
   ]
  },
  {
   "cell_type": "code",
   "execution_count": 25,
   "id": "400b1e23",
   "metadata": {},
   "outputs": [
    {
     "data": {
      "text/plain": [
       "[(1, 'a'), (2, 'b'), (3, 'c'), (4, 'd'), (5, 'e')]"
      ]
     },
     "execution_count": 25,
     "metadata": {},
     "output_type": "execute_result"
    }
   ],
   "source": [
    "list(zip(a, b))"
   ]
  },
  {
   "cell_type": "code",
   "execution_count": 26,
   "id": "4d8d8df3",
   "metadata": {},
   "outputs": [],
   "source": [
    "a = [1, 2, 3, 4]\n",
    "b = [\"a\", \"b\", \"c\", \"d\", \"e\"]"
   ]
  },
  {
   "cell_type": "code",
   "execution_count": 30,
   "id": "3f58d77a",
   "metadata": {},
   "outputs": [],
   "source": [
    "result = list(zip(a, b))"
   ]
  },
  {
   "cell_type": "code",
   "execution_count": 31,
   "id": "081d13ca",
   "metadata": {},
   "outputs": [
    {
     "data": {
      "text/plain": [
       "[(1, 'a'), (2, 'b'), (3, 'c'), (4, 'd')]"
      ]
     },
     "execution_count": 31,
     "metadata": {},
     "output_type": "execute_result"
    }
   ],
   "source": [
    "result"
   ]
  },
  {
   "cell_type": "code",
   "execution_count": 32,
   "id": "bfa98780",
   "metadata": {},
   "outputs": [
    {
     "data": {
      "text/plain": [
       "{1: 'a', 2: 'b', 3: 'c', 4: 'd'}"
      ]
     },
     "execution_count": 32,
     "metadata": {},
     "output_type": "execute_result"
    }
   ],
   "source": [
    "dict(result)"
   ]
  },
  {
   "cell_type": "code",
   "execution_count": 35,
   "id": "f3631e31",
   "metadata": {},
   "outputs": [],
   "source": [
    "a = [1, 2, 3, 4]\n",
    "b = [\"a\", \"b\", \"c\", \"d\", \"e\"]\n",
    "c = [True, False, False, True, True, True]\n",
    "d = [5.6, 2.2, 1.3]"
   ]
  },
  {
   "cell_type": "code",
   "execution_count": 36,
   "id": "dd67bbca",
   "metadata": {},
   "outputs": [
    {
     "data": {
      "text/plain": [
       "[(1, 'a', True, 5.6), (2, 'b', False, 2.2), (3, 'c', False, 1.3)]"
      ]
     },
     "execution_count": 36,
     "metadata": {},
     "output_type": "execute_result"
    }
   ],
   "source": [
    "list(zip(a, b, c, d))"
   ]
  },
  {
   "cell_type": "markdown",
   "id": "1b9f8fe3",
   "metadata": {},
   "source": [
    "## REDUCE"
   ]
  },
  {
   "cell_type": "code",
   "execution_count": 37,
   "id": "261b24ed",
   "metadata": {},
   "outputs": [],
   "source": [
    "from functools import reduce"
   ]
  },
  {
   "cell_type": "code",
   "execution_count": 38,
   "id": "44d118ab",
   "metadata": {},
   "outputs": [],
   "source": [
    "a = [1, 2, 3, 4, 5]"
   ]
  },
  {
   "cell_type": "code",
   "execution_count": 47,
   "id": "e6a8f0b5",
   "metadata": {},
   "outputs": [],
   "source": [
    "result = reduce(lambda x, y: x + y, a)"
   ]
  },
  {
   "cell_type": "code",
   "execution_count": 48,
   "id": "a64a9054",
   "metadata": {},
   "outputs": [
    {
     "data": {
      "text/plain": [
       "15"
      ]
     },
     "execution_count": 48,
     "metadata": {},
     "output_type": "execute_result"
    }
   ],
   "source": [
    "result"
   ]
  },
  {
   "cell_type": "code",
   "execution_count": 49,
   "id": "cf9042c4",
   "metadata": {},
   "outputs": [
    {
     "name": "stdout",
     "output_type": "stream",
     "text": [
      "-13\n"
     ]
    }
   ],
   "source": [
    "print(reduce(lambda x, y: x - y, a))"
   ]
  },
  {
   "cell_type": "code",
   "execution_count": 50,
   "id": "8f2d3001",
   "metadata": {},
   "outputs": [
    {
     "data": {
      "text/plain": [
       "True"
      ]
     },
     "execution_count": 50,
     "metadata": {},
     "output_type": "execute_result"
    }
   ],
   "source": [
    "a = list(range(1, 11))\n",
    "b = reversed(a)\n",
    "\n",
    "reduce(lambda x, y: x * y, a) == reduce(lambda x, y: x * y, b)"
   ]
  },
  {
   "cell_type": "code",
   "execution_count": 51,
   "id": "21d457af",
   "metadata": {},
   "outputs": [],
   "source": [
    "a = [\"this\", \"is\", \"so\", \"cooolllll!!!\"]"
   ]
  },
  {
   "cell_type": "code",
   "execution_count": 52,
   "id": "56d1f41e",
   "metadata": {},
   "outputs": [
    {
     "data": {
      "text/plain": [
       "'this is so cooolllll!!!'"
      ]
     },
     "execution_count": 52,
     "metadata": {},
     "output_type": "execute_result"
    }
   ],
   "source": [
    "reduce(lambda x, y: f\"{x} {y}\", a)"
   ]
  },
  {
   "cell_type": "code",
   "execution_count": 53,
   "id": "6ad9de9f",
   "metadata": {},
   "outputs": [],
   "source": [
    "a = [10, 20, 5, 18, 50, 90, 70, 65]"
   ]
  },
  {
   "cell_type": "code",
   "execution_count": 55,
   "id": "382fb369",
   "metadata": {},
   "outputs": [
    {
     "data": {
      "text/plain": [
       "90"
      ]
     },
     "execution_count": 55,
     "metadata": {},
     "output_type": "execute_result"
    }
   ],
   "source": [
    "reduce(lambda x, y: x if x > y else y, a)"
   ]
  },
  {
   "cell_type": "code",
   "execution_count": 56,
   "id": "f235b6ad",
   "metadata": {},
   "outputs": [],
   "source": [
    "def reduction_visualisation(x, y):\n",
    "    print(f\"Currently comparing {x} and {y}\")\n",
    "    \n",
    "    return x if x > y else y"
   ]
  },
  {
   "cell_type": "code",
   "execution_count": 57,
   "id": "c5508123",
   "metadata": {},
   "outputs": [
    {
     "name": "stdout",
     "output_type": "stream",
     "text": [
      "Currently comparing 10 and 20\n",
      "Currently comparing 20 and 5\n",
      "Currently comparing 20 and 18\n",
      "Currently comparing 20 and 50\n",
      "Currently comparing 50 and 90\n",
      "Currently comparing 90 and 70\n",
      "Currently comparing 90 and 65\n"
     ]
    },
    {
     "data": {
      "text/plain": [
       "90"
      ]
     },
     "execution_count": 57,
     "metadata": {},
     "output_type": "execute_result"
    }
   ],
   "source": [
    "reduce(reduction_visualisation, a)"
   ]
  },
  {
   "cell_type": "markdown",
   "id": "7837035c",
   "metadata": {},
   "source": [
    "## ARGS AND KWARGS"
   ]
  },
  {
   "cell_type": "code",
   "execution_count": 58,
   "id": "e690b59d",
   "metadata": {},
   "outputs": [],
   "source": [
    "def sum_custom(a, b):\n",
    "    return a + b"
   ]
  },
  {
   "cell_type": "code",
   "execution_count": 59,
   "id": "50b5a8a2",
   "metadata": {},
   "outputs": [
    {
     "data": {
      "text/plain": [
       "9"
      ]
     },
     "execution_count": 59,
     "metadata": {},
     "output_type": "execute_result"
    }
   ],
   "source": [
    "sum_custom(4,5)"
   ]
  },
  {
   "cell_type": "code",
   "execution_count": 60,
   "id": "4c98ccc5",
   "metadata": {},
   "outputs": [],
   "source": [
    "# PROBLEM -\n",
    "# - A sum function should take minimum 2 arguments\n",
    "# - But max arguments should be unlimited"
   ]
  },
  {
   "cell_type": "code",
   "execution_count": 62,
   "id": "890df260",
   "metadata": {},
   "outputs": [],
   "source": [
    "def sum_custom(a, b, *args):\n",
    "    print(a)\n",
    "    print(b)\n",
    "    print(args)"
   ]
  },
  {
   "cell_type": "code",
   "execution_count": 64,
   "id": "2aba5c56",
   "metadata": {},
   "outputs": [
    {
     "name": "stdout",
     "output_type": "stream",
     "text": [
      "4\n",
      "5\n",
      "(6, 7, 8, 9, 10)\n"
     ]
    }
   ],
   "source": [
    "sum_custom(4, 5, 6, 7, 8, 9, 10)"
   ]
  },
  {
   "cell_type": "code",
   "execution_count": 69,
   "id": "db2a4dde",
   "metadata": {},
   "outputs": [],
   "source": [
    "def sum_custom(a, b, *any_variable_name):\n",
    "    return a + b + sum(any_variable_name)"
   ]
  },
  {
   "cell_type": "code",
   "execution_count": 70,
   "id": "36fafe34",
   "metadata": {},
   "outputs": [
    {
     "data": {
      "text/plain": [
       "9"
      ]
     },
     "execution_count": 70,
     "metadata": {},
     "output_type": "execute_result"
    }
   ],
   "source": [
    "sum_custom(4, 5)"
   ]
  },
  {
   "cell_type": "code",
   "execution_count": 71,
   "id": "e9a553d9",
   "metadata": {},
   "outputs": [
    {
     "ename": "TypeError",
     "evalue": "sum_custom() missing 1 required positional argument: 'b'",
     "output_type": "error",
     "traceback": [
      "\u001b[0;31m---------------------------------------------------------------------------\u001b[0m",
      "\u001b[0;31mTypeError\u001b[0m                                 Traceback (most recent call last)",
      "\u001b[0;32m/var/folders/nn/c52y0d3j0gq59dpsswchkt2r0000gn/T/ipykernel_92438/3823228276.py\u001b[0m in \u001b[0;36m<module>\u001b[0;34m\u001b[0m\n\u001b[0;32m----> 1\u001b[0;31m \u001b[0msum_custom\u001b[0m\u001b[0;34m(\u001b[0m\u001b[0;36m4\u001b[0m\u001b[0;34m)\u001b[0m\u001b[0;34m\u001b[0m\u001b[0;34m\u001b[0m\u001b[0m\n\u001b[0m",
      "\u001b[0;31mTypeError\u001b[0m: sum_custom() missing 1 required positional argument: 'b'"
     ]
    }
   ],
   "source": [
    "sum_custom(4)"
   ]
  },
  {
   "cell_type": "code",
   "execution_count": 72,
   "id": "bd1261ec",
   "metadata": {},
   "outputs": [
    {
     "data": {
      "text/plain": [
       "30"
      ]
     },
     "execution_count": 72,
     "metadata": {},
     "output_type": "execute_result"
    }
   ],
   "source": [
    "sum_custom(4, 5, 6, 7, 8)"
   ]
  },
  {
   "cell_type": "code",
   "execution_count": 73,
   "id": "b2c058ed",
   "metadata": {},
   "outputs": [],
   "source": [
    "def random():\n",
    "    return 200, 300, 400, 500, 600"
   ]
  },
  {
   "cell_type": "code",
   "execution_count": 78,
   "id": "f6a40b21",
   "metadata": {},
   "outputs": [],
   "source": [
    "a, b, *c = random()"
   ]
  },
  {
   "cell_type": "code",
   "execution_count": 79,
   "id": "1c60021e",
   "metadata": {},
   "outputs": [
    {
     "data": {
      "text/plain": [
       "200"
      ]
     },
     "execution_count": 79,
     "metadata": {},
     "output_type": "execute_result"
    }
   ],
   "source": [
    "a"
   ]
  },
  {
   "cell_type": "code",
   "execution_count": 80,
   "id": "c8e8b694",
   "metadata": {},
   "outputs": [
    {
     "data": {
      "text/plain": [
       "300"
      ]
     },
     "execution_count": 80,
     "metadata": {},
     "output_type": "execute_result"
    }
   ],
   "source": [
    "b"
   ]
  },
  {
   "cell_type": "code",
   "execution_count": 81,
   "id": "fafb62dc",
   "metadata": {},
   "outputs": [
    {
     "data": {
      "text/plain": [
       "[400, 500, 600]"
      ]
     },
     "execution_count": 81,
     "metadata": {},
     "output_type": "execute_result"
    }
   ],
   "source": [
    "c"
   ]
  },
  {
   "cell_type": "code",
   "execution_count": 82,
   "id": "2538ecba",
   "metadata": {},
   "outputs": [],
   "source": [
    "def create_person(name, age, gender):\n",
    "    Person = {\n",
    "        \"name\": name,\n",
    "        \"age\": age,\n",
    "        \"gender\": gender\n",
    "    }\n",
    "    \n",
    "    return Person"
   ]
  },
  {
   "cell_type": "code",
   "execution_count": 83,
   "id": "83f1a91f",
   "metadata": {},
   "outputs": [
    {
     "data": {
      "text/plain": [
       "{'name': 'Bipin', 'age': 5000, 'gender': 'Male'}"
      ]
     },
     "execution_count": 83,
     "metadata": {},
     "output_type": "execute_result"
    }
   ],
   "source": [
    "create_person(name = \"Bipin\", age = 5000, gender = \"Male\")"
   ]
  },
  {
   "cell_type": "code",
   "execution_count": 84,
   "id": "b1355df2",
   "metadata": {},
   "outputs": [],
   "source": [
    "def create_person(name, age, gender, **kwargs):\n",
    "    print(kwargs)"
   ]
  },
  {
   "cell_type": "code",
   "execution_count": 85,
   "id": "cec61ed7",
   "metadata": {},
   "outputs": [
    {
     "name": "stdout",
     "output_type": "stream",
     "text": [
      "{'subject': ['Computer Science', 'Physics'], 'height': 182, 'weight': False}\n"
     ]
    }
   ],
   "source": [
    "create_person(name = \"Bipin\", age = 5000, gender = \"Male\", subject = [\"Computer Science\", \"Physics\"], height = 182, weight = False)"
   ]
  },
  {
   "cell_type": "code",
   "execution_count": 86,
   "id": "c940d058",
   "metadata": {},
   "outputs": [],
   "source": [
    "def create_person(name, age, gender, **extra_info):\n",
    "    Person = {\n",
    "        \"name\": name,\n",
    "        \"age\": age,\n",
    "        \"gender\": gender\n",
    "    }\n",
    "    \n",
    "    Person.update(extra_info)\n",
    "    \n",
    "    return Person"
   ]
  },
  {
   "cell_type": "code",
   "execution_count": 87,
   "id": "c93581c7",
   "metadata": {},
   "outputs": [
    {
     "data": {
      "text/plain": [
       "{'name': 'Bipin',\n",
       " 'age': 5000,\n",
       " 'gender': 'Male',\n",
       " 'subject': ['Computer Science', 'Physics'],\n",
       " 'height': 182,\n",
       " 'weight': False}"
      ]
     },
     "execution_count": 87,
     "metadata": {},
     "output_type": "execute_result"
    }
   ],
   "source": [
    "create_person(name = \"Bipin\", age = 5000, gender = \"Male\", subject = [\"Computer Science\", \"Physics\"], height = 182, weight = False)"
   ]
  },
  {
   "cell_type": "code",
   "execution_count": 88,
   "id": "1f7d847f",
   "metadata": {},
   "outputs": [],
   "source": [
    "# positional -> args -> keyworded -> kwargs"
   ]
  },
  {
   "cell_type": "code",
   "execution_count": null,
   "id": "8c6a4033",
   "metadata": {},
   "outputs": [],
   "source": []
  }
 ],
 "metadata": {
  "kernelspec": {
   "display_name": "Python 3 (ipykernel)",
   "language": "python",
   "name": "python3"
  },
  "language_info": {
   "codemirror_mode": {
    "name": "ipython",
    "version": 3
   },
   "file_extension": ".py",
   "mimetype": "text/x-python",
   "name": "python",
   "nbconvert_exporter": "python",
   "pygments_lexer": "ipython3",
   "version": "3.9.5"
  }
 },
 "nbformat": 4,
 "nbformat_minor": 5
}
